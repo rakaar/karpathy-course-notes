{
  "nbformat": 4,
  "nbformat_minor": 0,
  "metadata": {
    "colab": {
      "provenance": []
    },
    "kernelspec": {
      "name": "python3",
      "display_name": "Python 3"
    },
    "language_info": {
      "name": "python"
    }
  },
  "cells": [
    {
      "cell_type": "code",
      "execution_count": null,
      "metadata": {
        "id": "Et7vSvwDOR5N"
      },
      "outputs": [],
      "source": [
        "import math\n",
        "class Value:\n",
        "  def __init__(self, data, _children=[], _op='', label=''):\n",
        "    self.data = data\n",
        "    self._prev = _children\n",
        "    # backprop -  when initialise no gradient, its when u do some operation u have it\n",
        "    self._backward = lambda:None\n",
        "    self._op = _op\n",
        "    self.label = label\n",
        "    self.grad = 0.0\n",
        "\n",
        "  def __repr__(self):\n",
        "    return f\"Value(data={self.data})\"\n",
        "\n",
        "  def __add__(self,other):\n",
        "    out =  Value(self.data + other.data, [self, other], _op='+')\n",
        "    def _backward():\n",
        "      self.grad = out.grad\n",
        "      other.grad = out.grad\n",
        "    \n",
        "    out._backward = _backward\n",
        "    return out\n",
        "  def __mul__(self,other):\n",
        "    out = Value(self.data * other.data, [self, other], _op='*')\n",
        "    def _backward():\n",
        "      self.grad = other.data * out.grad\n",
        "      other.grad = self.data * out.grad\n",
        "    out._backward = _backward\n",
        "    return out\n",
        "\n",
        "  def tanh(self):\n",
        "    x = self.data\n",
        "    t = (math.exp(2*x) - 1)/(math.exp(2*x) + 1)\n",
        "    out = Value(t, [self],'tanh')\n",
        "    def _backward():\n",
        "      self.grad = (1 - t**2) * out.grad\n",
        "    out._backward = _backward\n",
        "\n",
        "    return out"
      ]
    },
    {
      "cell_type": "code",
      "source": [
        "a = Value(3, label='a')"
      ],
      "metadata": {
        "id": "7Enhci1FQ-qI"
      },
      "execution_count": null,
      "outputs": []
    },
    {
      "cell_type": "code",
      "source": [
        "b = Value(2,label='b')\n",
        "b"
      ],
      "metadata": {
        "colab": {
          "base_uri": "https://localhost:8080/"
        },
        "id": "sXvQ5-b_R4vs",
        "outputId": "1cd9e9a4-957b-40d5-c6a6-c69ea3fd6be9"
      },
      "execution_count": null,
      "outputs": [
        {
          "output_type": "execute_result",
          "data": {
            "text/plain": [
              "Value(data=2)"
            ]
          },
          "metadata": {},
          "execution_count": 5
        }
      ]
    },
    {
      "cell_type": "code",
      "source": [
        "# a + b \n",
        "# eq of\n",
        "a.__add__(b)"
      ],
      "metadata": {
        "colab": {
          "base_uri": "https://localhost:8080/"
        },
        "id": "pje4VvoBR7j4",
        "outputId": "954d9622-3deb-4fe8-e34a-4bbde2132077"
      },
      "execution_count": null,
      "outputs": [
        {
          "output_type": "execute_result",
          "data": {
            "text/plain": [
              "Value(data=5)"
            ]
          },
          "metadata": {},
          "execution_count": 6
        }
      ]
    },
    {
      "cell_type": "code",
      "source": [
        "a*b"
      ],
      "metadata": {
        "colab": {
          "base_uri": "https://localhost:8080/"
        },
        "id": "Oj2ldJYmSRiB",
        "outputId": "5d853aa2-7ce6-44f0-f513-479a567f36bb"
      },
      "execution_count": null,
      "outputs": [
        {
          "output_type": "execute_result",
          "data": {
            "text/plain": [
              "Value(data=6)"
            ]
          },
          "metadata": {},
          "execution_count": 7
        }
      ]
    },
    {
      "cell_type": "code",
      "source": [
        "c = Value(1,label='c')"
      ],
      "metadata": {
        "id": "-pR0qwNETOO3"
      },
      "execution_count": null,
      "outputs": []
    },
    {
      "cell_type": "code",
      "source": [
        "e = a*b\n",
        "e.label = 'e'\n",
        "d = e + c\n",
        "d\n",
        "d.label = 'd'"
      ],
      "metadata": {
        "id": "xR7W9j41TPqo"
      },
      "execution_count": null,
      "outputs": []
    },
    {
      "cell_type": "code",
      "source": [
        "d._prev"
      ],
      "metadata": {
        "colab": {
          "base_uri": "https://localhost:8080/"
        },
        "id": "jk_UiGIyTSKT",
        "outputId": "c53f1db2-2e52-4500-8d2c-f21b5805e2eb"
      },
      "execution_count": null,
      "outputs": [
        {
          "output_type": "execute_result",
          "data": {
            "text/plain": [
              "[Value(data=6), Value(data=1)]"
            ]
          },
          "metadata": {},
          "execution_count": 10
        }
      ]
    },
    {
      "cell_type": "code",
      "source": [
        "d._op"
      ],
      "metadata": {
        "colab": {
          "base_uri": "https://localhost:8080/",
          "height": 36
        },
        "id": "xb1xd4O8XzKr",
        "outputId": "2f151b67-080b-4c88-c994-4598384463cf"
      },
      "execution_count": null,
      "outputs": [
        {
          "output_type": "execute_result",
          "data": {
            "text/plain": [
              "'+'"
            ],
            "application/vnd.google.colaboratory.intrinsic+json": {
              "type": "string"
            }
          },
          "metadata": {},
          "execution_count": 11
        }
      ]
    },
    {
      "cell_type": "code",
      "source": [
        "from graphviz import Digraph\n",
        "\n",
        "def trace(root):\n",
        "  # builds a set of all nodes and edges in a graph\n",
        "  nodes, edges = set(), set()\n",
        "  def build(v):\n",
        "    if v not in nodes:\n",
        "      nodes.add(v)\n",
        "      for child in v._prev:\n",
        "        edges.add((child, v))\n",
        "        build(child)\n",
        "  build(root)\n",
        "  return nodes, edges\n",
        "\n",
        "def draw_dot(root):\n",
        "  dot = Digraph(format='svg', graph_attr={'rankdir': 'LR'}) # LR = left to right\n",
        "  \n",
        "  nodes, edges = trace(root)\n",
        "  for n in nodes:\n",
        "    uid = str(id(n))\n",
        "    # for any value in the graph, create a rectangular ('record') node for it\n",
        "    dot.node(name = uid, label = \"{ %s | data %.4f | grad %.4f }\" % (n.label, n.data, n.grad), shape='record')\n",
        "    if n._op:\n",
        "      # if this value is a result of some operation, create an op node for it\n",
        "      dot.node(name = uid + n._op, label = n._op)\n",
        "      # and connect this node to it\n",
        "      dot.edge(uid + n._op, uid)\n",
        "\n",
        "  for n1, n2 in edges:\n",
        "    # connect n1 to the op node of n2\n",
        "    dot.edge(str(id(n1)), str(id(n2)) + n2._op)\n",
        "\n",
        "  return dot"
      ],
      "metadata": {
        "id": "_K45PhpLYbZr"
      },
      "execution_count": null,
      "outputs": []
    },
    {
      "cell_type": "code",
      "source": [
        "draw_dot(d)"
      ],
      "metadata": {
        "colab": {
          "base_uri": "https://localhost:8080/",
          "height": 191
        },
        "id": "brGrMLASYb7j",
        "outputId": "7026b4f9-3241-418a-e7c3-77f95b193b9c"
      },
      "execution_count": null,
      "outputs": [
        {
          "output_type": "execute_result",
          "data": {
            "image/svg+xml": "<?xml version=\"1.0\" encoding=\"UTF-8\" standalone=\"no\"?>\n<!DOCTYPE svg PUBLIC \"-//W3C//DTD SVG 1.1//EN\"\n \"http://www.w3.org/Graphics/SVG/1.1/DTD/svg11.dtd\">\n<!-- Generated by graphviz version 2.43.0 (0)\n -->\n<!-- Title: %3 Pages: 1 -->\n<svg width=\"815pt\" height=\"127pt\"\n viewBox=\"0.00 0.00 815.00 127.00\" xmlns=\"http://www.w3.org/2000/svg\" xmlns:xlink=\"http://www.w3.org/1999/xlink\">\n<g id=\"graph0\" class=\"graph\" transform=\"scale(1 1) rotate(0) translate(4 123)\">\n<title>%3</title>\n<polygon fill=\"white\" stroke=\"transparent\" points=\"-4,4 -4,-123 811,-123 811,4 -4,4\"/>\n<!-- 139818921756800 -->\n<g id=\"node1\" class=\"node\">\n<title>139818921756800</title>\n<polygon fill=\"none\" stroke=\"black\" points=\"622,-54.5 622,-90.5 807,-90.5 807,-54.5 622,-54.5\"/>\n<text text-anchor=\"middle\" x=\"633.5\" y=\"-68.8\" font-family=\"Times,serif\" font-size=\"14.00\">d</text>\n<polyline fill=\"none\" stroke=\"black\" points=\"645,-54.5 645,-90.5 \"/>\n<text text-anchor=\"middle\" x=\"685\" y=\"-68.8\" font-family=\"Times,serif\" font-size=\"14.00\">data 7.0000</text>\n<polyline fill=\"none\" stroke=\"black\" points=\"725,-54.5 725,-90.5 \"/>\n<text text-anchor=\"middle\" x=\"766\" y=\"-68.8\" font-family=\"Times,serif\" font-size=\"14.00\">grad 0.0000</text>\n</g>\n<!-- 139818921756800+ -->\n<g id=\"node2\" class=\"node\">\n<title>139818921756800+</title>\n<ellipse fill=\"none\" stroke=\"black\" cx=\"559\" cy=\"-72.5\" rx=\"27\" ry=\"18\"/>\n<text text-anchor=\"middle\" x=\"559\" y=\"-68.8\" font-family=\"Times,serif\" font-size=\"14.00\">+</text>\n</g>\n<!-- 139818921756800+&#45;&gt;139818921756800 -->\n<g id=\"edge1\" class=\"edge\">\n<title>139818921756800+&#45;&gt;139818921756800</title>\n<path fill=\"none\" stroke=\"black\" d=\"M586.04,-72.5C593.58,-72.5 602.3,-72.5 611.57,-72.5\"/>\n<polygon fill=\"black\" stroke=\"black\" points=\"611.81,-76 621.81,-72.5 611.81,-69 611.81,-76\"/>\n</g>\n<!-- 139818404892288 -->\n<g id=\"node3\" class=\"node\">\n<title>139818404892288</title>\n<polygon fill=\"none\" stroke=\"black\" points=\"0,-55.5 0,-91.5 185,-91.5 185,-55.5 0,-55.5\"/>\n<text text-anchor=\"middle\" x=\"11.5\" y=\"-69.8\" font-family=\"Times,serif\" font-size=\"14.00\">b</text>\n<polyline fill=\"none\" stroke=\"black\" points=\"23,-55.5 23,-91.5 \"/>\n<text text-anchor=\"middle\" x=\"63\" y=\"-69.8\" font-family=\"Times,serif\" font-size=\"14.00\">data 2.0000</text>\n<polyline fill=\"none\" stroke=\"black\" points=\"103,-55.5 103,-91.5 \"/>\n<text text-anchor=\"middle\" x=\"144\" y=\"-69.8\" font-family=\"Times,serif\" font-size=\"14.00\">grad 0.0000</text>\n</g>\n<!-- 139818921755024* -->\n<g id=\"node7\" class=\"node\">\n<title>139818921755024*</title>\n<ellipse fill=\"none\" stroke=\"black\" cx=\"248\" cy=\"-45.5\" rx=\"27\" ry=\"18\"/>\n<text text-anchor=\"middle\" x=\"248\" y=\"-41.8\" font-family=\"Times,serif\" font-size=\"14.00\">*</text>\n</g>\n<!-- 139818404892288&#45;&gt;139818921755024* -->\n<g id=\"edge6\" class=\"edge\">\n<title>139818404892288&#45;&gt;139818921755024*</title>\n<path fill=\"none\" stroke=\"black\" d=\"M185.01,-56.81C194.49,-55.08 203.66,-53.41 211.9,-51.9\"/>\n<polygon fill=\"black\" stroke=\"black\" points=\"212.6,-55.33 221.81,-50.09 211.35,-48.45 212.6,-55.33\"/>\n</g>\n<!-- 139818404890368 -->\n<g id=\"node4\" class=\"node\">\n<title>139818404890368</title>\n<polygon fill=\"none\" stroke=\"black\" points=\"311,-82.5 311,-118.5 496,-118.5 496,-82.5 311,-82.5\"/>\n<text text-anchor=\"middle\" x=\"322.5\" y=\"-96.8\" font-family=\"Times,serif\" font-size=\"14.00\">c</text>\n<polyline fill=\"none\" stroke=\"black\" points=\"334,-82.5 334,-118.5 \"/>\n<text text-anchor=\"middle\" x=\"374\" y=\"-96.8\" font-family=\"Times,serif\" font-size=\"14.00\">data 1.0000</text>\n<polyline fill=\"none\" stroke=\"black\" points=\"414,-82.5 414,-118.5 \"/>\n<text text-anchor=\"middle\" x=\"455\" y=\"-96.8\" font-family=\"Times,serif\" font-size=\"14.00\">grad 0.0000</text>\n</g>\n<!-- 139818404890368&#45;&gt;139818921756800+ -->\n<g id=\"edge3\" class=\"edge\">\n<title>139818404890368&#45;&gt;139818921756800+</title>\n<path fill=\"none\" stroke=\"black\" d=\"M496.01,-83.81C505.49,-82.08 514.66,-80.41 522.9,-78.9\"/>\n<polygon fill=\"black\" stroke=\"black\" points=\"523.6,-82.33 532.81,-77.09 522.35,-75.45 523.6,-82.33\"/>\n</g>\n<!-- 139818404890416 -->\n<g id=\"node5\" class=\"node\">\n<title>139818404890416</title>\n<polygon fill=\"none\" stroke=\"black\" points=\"0,-0.5 0,-36.5 185,-36.5 185,-0.5 0,-0.5\"/>\n<text text-anchor=\"middle\" x=\"11.5\" y=\"-14.8\" font-family=\"Times,serif\" font-size=\"14.00\">a</text>\n<polyline fill=\"none\" stroke=\"black\" points=\"23,-0.5 23,-36.5 \"/>\n<text text-anchor=\"middle\" x=\"63\" y=\"-14.8\" font-family=\"Times,serif\" font-size=\"14.00\">data 3.0000</text>\n<polyline fill=\"none\" stroke=\"black\" points=\"103,-0.5 103,-36.5 \"/>\n<text text-anchor=\"middle\" x=\"144\" y=\"-14.8\" font-family=\"Times,serif\" font-size=\"14.00\">grad 0.0000</text>\n</g>\n<!-- 139818404890416&#45;&gt;139818921755024* -->\n<g id=\"edge5\" class=\"edge\">\n<title>139818404890416&#45;&gt;139818921755024*</title>\n<path fill=\"none\" stroke=\"black\" d=\"M185.01,-34.6C194.49,-36.26 203.66,-37.88 211.9,-39.33\"/>\n<polygon fill=\"black\" stroke=\"black\" points=\"211.36,-42.78 221.81,-41.07 212.57,-35.89 211.36,-42.78\"/>\n</g>\n<!-- 139818921755024 -->\n<g id=\"node6\" class=\"node\">\n<title>139818921755024</title>\n<polygon fill=\"none\" stroke=\"black\" points=\"311,-27.5 311,-63.5 496,-63.5 496,-27.5 311,-27.5\"/>\n<text text-anchor=\"middle\" x=\"322.5\" y=\"-41.8\" font-family=\"Times,serif\" font-size=\"14.00\">e</text>\n<polyline fill=\"none\" stroke=\"black\" points=\"334,-27.5 334,-63.5 \"/>\n<text text-anchor=\"middle\" x=\"374\" y=\"-41.8\" font-family=\"Times,serif\" font-size=\"14.00\">data 6.0000</text>\n<polyline fill=\"none\" stroke=\"black\" points=\"414,-27.5 414,-63.5 \"/>\n<text text-anchor=\"middle\" x=\"455\" y=\"-41.8\" font-family=\"Times,serif\" font-size=\"14.00\">grad 0.0000</text>\n</g>\n<!-- 139818921755024&#45;&gt;139818921756800+ -->\n<g id=\"edge4\" class=\"edge\">\n<title>139818921755024&#45;&gt;139818921756800+</title>\n<path fill=\"none\" stroke=\"black\" d=\"M496.01,-61.6C505.49,-63.26 514.66,-64.88 522.9,-66.33\"/>\n<polygon fill=\"black\" stroke=\"black\" points=\"522.36,-69.78 532.81,-68.07 523.57,-62.89 522.36,-69.78\"/>\n</g>\n<!-- 139818921755024*&#45;&gt;139818921755024 -->\n<g id=\"edge2\" class=\"edge\">\n<title>139818921755024*&#45;&gt;139818921755024</title>\n<path fill=\"none\" stroke=\"black\" d=\"M275.04,-45.5C282.58,-45.5 291.3,-45.5 300.57,-45.5\"/>\n<polygon fill=\"black\" stroke=\"black\" points=\"300.81,-49 310.81,-45.5 300.81,-42 300.81,-49\"/>\n</g>\n</g>\n</svg>\n",
            "text/plain": [
              "<graphviz.graphs.Digraph at 0x7f2a025b3a60>"
            ]
          },
          "metadata": {},
          "execution_count": 13
        }
      ]
    },
    {
      "cell_type": "code",
      "source": [
        "L = d + e"
      ],
      "metadata": {
        "id": "tNO2qf3EiR_x"
      },
      "execution_count": null,
      "outputs": []
    },
    {
      "cell_type": "code",
      "source": [
        "draw_dot(L)"
      ],
      "metadata": {
        "colab": {
          "base_uri": "https://localhost:8080/",
          "height": 211
        },
        "id": "-pKJ1V1wiVrd",
        "outputId": "ade71819-a99c-4e63-f7e8-f50195444f13"
      },
      "execution_count": null,
      "outputs": [
        {
          "output_type": "execute_result",
          "data": {
            "image/svg+xml": "<?xml version=\"1.0\" encoding=\"UTF-8\" standalone=\"no\"?>\n<!DOCTYPE svg PUBLIC \"-//W3C//DTD SVG 1.1//EN\"\n \"http://www.w3.org/Graphics/SVG/1.1/DTD/svg11.dtd\">\n<!-- Generated by graphviz version 2.43.0 (0)\n -->\n<!-- Title: %3 Pages: 1 -->\n<svg width=\"1130pt\" height=\"127pt\"\n viewBox=\"0.00 0.00 1130.00 127.00\" xmlns=\"http://www.w3.org/2000/svg\" xmlns:xlink=\"http://www.w3.org/1999/xlink\">\n<g id=\"graph0\" class=\"graph\" transform=\"scale(1 1) rotate(0) translate(4 123)\">\n<title>%3</title>\n<polygon fill=\"white\" stroke=\"transparent\" points=\"-4,4 -4,-123 1126,-123 1126,4 -4,4\"/>\n<!-- 139818921756800 -->\n<g id=\"node1\" class=\"node\">\n<title>139818921756800</title>\n<polygon fill=\"none\" stroke=\"black\" points=\"622,-74.5 622,-110.5 807,-110.5 807,-74.5 622,-74.5\"/>\n<text text-anchor=\"middle\" x=\"633.5\" y=\"-88.8\" font-family=\"Times,serif\" font-size=\"14.00\">d</text>\n<polyline fill=\"none\" stroke=\"black\" points=\"645,-74.5 645,-110.5 \"/>\n<text text-anchor=\"middle\" x=\"685\" y=\"-88.8\" font-family=\"Times,serif\" font-size=\"14.00\">data 7.0000</text>\n<polyline fill=\"none\" stroke=\"black\" points=\"725,-74.5 725,-110.5 \"/>\n<text text-anchor=\"middle\" x=\"766\" y=\"-88.8\" font-family=\"Times,serif\" font-size=\"14.00\">grad 0.0000</text>\n</g>\n<!-- 139818404885792+ -->\n<g id=\"node6\" class=\"node\">\n<title>139818404885792+</title>\n<ellipse fill=\"none\" stroke=\"black\" cx=\"870\" cy=\"-68.5\" rx=\"27\" ry=\"18\"/>\n<text text-anchor=\"middle\" x=\"870\" y=\"-64.8\" font-family=\"Times,serif\" font-size=\"14.00\">+</text>\n</g>\n<!-- 139818921756800&#45;&gt;139818404885792+ -->\n<g id=\"edge6\" class=\"edge\">\n<title>139818921756800&#45;&gt;139818404885792+</title>\n<path fill=\"none\" stroke=\"black\" d=\"M807.01,-78.19C816.29,-76.74 825.28,-75.34 833.39,-74.07\"/>\n<polygon fill=\"black\" stroke=\"black\" points=\"834.17,-77.49 843.51,-72.48 833.09,-70.57 834.17,-77.49\"/>\n</g>\n<!-- 139818921756800+ -->\n<g id=\"node2\" class=\"node\">\n<title>139818921756800+</title>\n<ellipse fill=\"none\" stroke=\"black\" cx=\"559\" cy=\"-92.5\" rx=\"27\" ry=\"18\"/>\n<text text-anchor=\"middle\" x=\"559\" y=\"-88.8\" font-family=\"Times,serif\" font-size=\"14.00\">+</text>\n</g>\n<!-- 139818921756800+&#45;&gt;139818921756800 -->\n<g id=\"edge1\" class=\"edge\">\n<title>139818921756800+&#45;&gt;139818921756800</title>\n<path fill=\"none\" stroke=\"black\" d=\"M586.04,-92.5C593.58,-92.5 602.3,-92.5 611.57,-92.5\"/>\n<polygon fill=\"black\" stroke=\"black\" points=\"611.81,-96 621.81,-92.5 611.81,-89 611.81,-96\"/>\n</g>\n<!-- 139818404892288 -->\n<g id=\"node3\" class=\"node\">\n<title>139818404892288</title>\n<polygon fill=\"none\" stroke=\"black\" points=\"0,-55.5 0,-91.5 185,-91.5 185,-55.5 0,-55.5\"/>\n<text text-anchor=\"middle\" x=\"11.5\" y=\"-69.8\" font-family=\"Times,serif\" font-size=\"14.00\">b</text>\n<polyline fill=\"none\" stroke=\"black\" points=\"23,-55.5 23,-91.5 \"/>\n<text text-anchor=\"middle\" x=\"63\" y=\"-69.8\" font-family=\"Times,serif\" font-size=\"14.00\">data 2.0000</text>\n<polyline fill=\"none\" stroke=\"black\" points=\"103,-55.5 103,-91.5 \"/>\n<text text-anchor=\"middle\" x=\"144\" y=\"-69.8\" font-family=\"Times,serif\" font-size=\"14.00\">grad 0.0000</text>\n</g>\n<!-- 139818921755024* -->\n<g id=\"node9\" class=\"node\">\n<title>139818921755024*</title>\n<ellipse fill=\"none\" stroke=\"black\" cx=\"248\" cy=\"-45.5\" rx=\"27\" ry=\"18\"/>\n<text text-anchor=\"middle\" x=\"248\" y=\"-41.8\" font-family=\"Times,serif\" font-size=\"14.00\">*</text>\n</g>\n<!-- 139818404892288&#45;&gt;139818921755024* -->\n<g id=\"edge9\" class=\"edge\">\n<title>139818404892288&#45;&gt;139818921755024*</title>\n<path fill=\"none\" stroke=\"black\" d=\"M185.01,-56.81C194.49,-55.08 203.66,-53.41 211.9,-51.9\"/>\n<polygon fill=\"black\" stroke=\"black\" points=\"212.6,-55.33 221.81,-50.09 211.35,-48.45 212.6,-55.33\"/>\n</g>\n<!-- 139818404890368 -->\n<g id=\"node4\" class=\"node\">\n<title>139818404890368</title>\n<polygon fill=\"none\" stroke=\"black\" points=\"311,-82.5 311,-118.5 496,-118.5 496,-82.5 311,-82.5\"/>\n<text text-anchor=\"middle\" x=\"322.5\" y=\"-96.8\" font-family=\"Times,serif\" font-size=\"14.00\">c</text>\n<polyline fill=\"none\" stroke=\"black\" points=\"334,-82.5 334,-118.5 \"/>\n<text text-anchor=\"middle\" x=\"374\" y=\"-96.8\" font-family=\"Times,serif\" font-size=\"14.00\">data 1.0000</text>\n<polyline fill=\"none\" stroke=\"black\" points=\"414,-82.5 414,-118.5 \"/>\n<text text-anchor=\"middle\" x=\"455\" y=\"-96.8\" font-family=\"Times,serif\" font-size=\"14.00\">grad 0.0000</text>\n</g>\n<!-- 139818404890368&#45;&gt;139818921756800+ -->\n<g id=\"edge5\" class=\"edge\">\n<title>139818404890368&#45;&gt;139818921756800+</title>\n<path fill=\"none\" stroke=\"black\" d=\"M496.01,-95.73C505.01,-95.26 513.74,-94.81 521.66,-94.39\"/>\n<polygon fill=\"black\" stroke=\"black\" points=\"522.1,-97.88 531.91,-93.86 521.74,-90.89 522.1,-97.88\"/>\n</g>\n<!-- 139818404885792 -->\n<g id=\"node5\" class=\"node\">\n<title>139818404885792</title>\n<polygon fill=\"none\" stroke=\"black\" points=\"933,-50.5 933,-86.5 1122,-86.5 1122,-50.5 933,-50.5\"/>\n<text text-anchor=\"middle\" x=\"943\" y=\"-64.8\" font-family=\"Times,serif\" font-size=\"14.00\"> </text>\n<polyline fill=\"none\" stroke=\"black\" points=\"953,-50.5 953,-86.5 \"/>\n<text text-anchor=\"middle\" x=\"996.5\" y=\"-64.8\" font-family=\"Times,serif\" font-size=\"14.00\">data 13.0000</text>\n<polyline fill=\"none\" stroke=\"black\" points=\"1040,-50.5 1040,-86.5 \"/>\n<text text-anchor=\"middle\" x=\"1081\" y=\"-64.8\" font-family=\"Times,serif\" font-size=\"14.00\">grad 0.0000</text>\n</g>\n<!-- 139818404885792+&#45;&gt;139818404885792 -->\n<g id=\"edge2\" class=\"edge\">\n<title>139818404885792+&#45;&gt;139818404885792</title>\n<path fill=\"none\" stroke=\"black\" d=\"M897.03,-68.5C904.66,-68.5 913.52,-68.5 922.94,-68.5\"/>\n<polygon fill=\"black\" stroke=\"black\" points=\"922.94,-72 932.94,-68.5 922.94,-65 922.94,-72\"/>\n</g>\n<!-- 139818404890416 -->\n<g id=\"node7\" class=\"node\">\n<title>139818404890416</title>\n<polygon fill=\"none\" stroke=\"black\" points=\"0,-0.5 0,-36.5 185,-36.5 185,-0.5 0,-0.5\"/>\n<text text-anchor=\"middle\" x=\"11.5\" y=\"-14.8\" font-family=\"Times,serif\" font-size=\"14.00\">a</text>\n<polyline fill=\"none\" stroke=\"black\" points=\"23,-0.5 23,-36.5 \"/>\n<text text-anchor=\"middle\" x=\"63\" y=\"-14.8\" font-family=\"Times,serif\" font-size=\"14.00\">data 3.0000</text>\n<polyline fill=\"none\" stroke=\"black\" points=\"103,-0.5 103,-36.5 \"/>\n<text text-anchor=\"middle\" x=\"144\" y=\"-14.8\" font-family=\"Times,serif\" font-size=\"14.00\">grad 0.0000</text>\n</g>\n<!-- 139818404890416&#45;&gt;139818921755024* -->\n<g id=\"edge8\" class=\"edge\">\n<title>139818404890416&#45;&gt;139818921755024*</title>\n<path fill=\"none\" stroke=\"black\" d=\"M185.01,-34.6C194.49,-36.26 203.66,-37.88 211.9,-39.33\"/>\n<polygon fill=\"black\" stroke=\"black\" points=\"211.36,-42.78 221.81,-41.07 212.57,-35.89 211.36,-42.78\"/>\n</g>\n<!-- 139818921755024 -->\n<g id=\"node8\" class=\"node\">\n<title>139818921755024</title>\n<polygon fill=\"none\" stroke=\"black\" points=\"311,-27.5 311,-63.5 496,-63.5 496,-27.5 311,-27.5\"/>\n<text text-anchor=\"middle\" x=\"322.5\" y=\"-41.8\" font-family=\"Times,serif\" font-size=\"14.00\">e</text>\n<polyline fill=\"none\" stroke=\"black\" points=\"334,-27.5 334,-63.5 \"/>\n<text text-anchor=\"middle\" x=\"374\" y=\"-41.8\" font-family=\"Times,serif\" font-size=\"14.00\">data 6.0000</text>\n<polyline fill=\"none\" stroke=\"black\" points=\"414,-27.5 414,-63.5 \"/>\n<text text-anchor=\"middle\" x=\"455\" y=\"-41.8\" font-family=\"Times,serif\" font-size=\"14.00\">grad 0.0000</text>\n</g>\n<!-- 139818921755024&#45;&gt;139818921756800+ -->\n<g id=\"edge4\" class=\"edge\">\n<title>139818921755024&#45;&gt;139818921756800+</title>\n<path fill=\"none\" stroke=\"black\" d=\"M463.57,-63.57C474.36,-66.87 485.52,-70.29 496,-73.5 505.25,-76.33 515.27,-79.4 524.51,-82.23\"/>\n<polygon fill=\"black\" stroke=\"black\" points=\"523.57,-85.61 534.15,-85.19 525.62,-78.91 523.57,-85.61\"/>\n</g>\n<!-- 139818921755024&#45;&gt;139818404885792+ -->\n<g id=\"edge7\" class=\"edge\">\n<title>139818921755024&#45;&gt;139818404885792+</title>\n<path fill=\"none\" stroke=\"black\" d=\"M496.27,-50.04C599.13,-55.14 760.87,-63.15 832.63,-66.7\"/>\n<polygon fill=\"black\" stroke=\"black\" points=\"832.78,-70.21 842.94,-67.21 833.13,-63.22 832.78,-70.21\"/>\n</g>\n<!-- 139818921755024*&#45;&gt;139818921755024 -->\n<g id=\"edge3\" class=\"edge\">\n<title>139818921755024*&#45;&gt;139818921755024</title>\n<path fill=\"none\" stroke=\"black\" d=\"M275.04,-45.5C282.58,-45.5 291.3,-45.5 300.57,-45.5\"/>\n<polygon fill=\"black\" stroke=\"black\" points=\"300.81,-49 310.81,-45.5 300.81,-42 300.81,-49\"/>\n</g>\n</g>\n</svg>\n",
            "text/plain": [
              "<graphviz.graphs.Digraph at 0x7f2a025b3580>"
            ]
          },
          "metadata": {},
          "execution_count": 15
        }
      ]
    },
    {
      "cell_type": "code",
      "source": [
        "L.grad = 1"
      ],
      "metadata": {
        "id": "_IEHKmXdiaNG"
      },
      "execution_count": null,
      "outputs": []
    },
    {
      "cell_type": "code",
      "source": [
        "draw_dot(L)"
      ],
      "metadata": {
        "colab": {
          "base_uri": "https://localhost:8080/",
          "height": 211
        },
        "id": "esxIL8_iaPz-",
        "outputId": "ffeb18ec-7cb3-4cf3-83b5-5b769ecf24a8"
      },
      "execution_count": null,
      "outputs": [
        {
          "output_type": "execute_result",
          "data": {
            "image/svg+xml": "<?xml version=\"1.0\" encoding=\"UTF-8\" standalone=\"no\"?>\n<!DOCTYPE svg PUBLIC \"-//W3C//DTD SVG 1.1//EN\"\n \"http://www.w3.org/Graphics/SVG/1.1/DTD/svg11.dtd\">\n<!-- Generated by graphviz version 2.43.0 (0)\n -->\n<!-- Title: %3 Pages: 1 -->\n<svg width=\"1130pt\" height=\"127pt\"\n viewBox=\"0.00 0.00 1130.00 127.00\" xmlns=\"http://www.w3.org/2000/svg\" xmlns:xlink=\"http://www.w3.org/1999/xlink\">\n<g id=\"graph0\" class=\"graph\" transform=\"scale(1 1) rotate(0) translate(4 123)\">\n<title>%3</title>\n<polygon fill=\"white\" stroke=\"transparent\" points=\"-4,4 -4,-123 1126,-123 1126,4 -4,4\"/>\n<!-- 139818921756800 -->\n<g id=\"node1\" class=\"node\">\n<title>139818921756800</title>\n<polygon fill=\"none\" stroke=\"black\" points=\"622,-74.5 622,-110.5 807,-110.5 807,-74.5 622,-74.5\"/>\n<text text-anchor=\"middle\" x=\"633.5\" y=\"-88.8\" font-family=\"Times,serif\" font-size=\"14.00\">d</text>\n<polyline fill=\"none\" stroke=\"black\" points=\"645,-74.5 645,-110.5 \"/>\n<text text-anchor=\"middle\" x=\"685\" y=\"-88.8\" font-family=\"Times,serif\" font-size=\"14.00\">data 7.0000</text>\n<polyline fill=\"none\" stroke=\"black\" points=\"725,-74.5 725,-110.5 \"/>\n<text text-anchor=\"middle\" x=\"766\" y=\"-88.8\" font-family=\"Times,serif\" font-size=\"14.00\">grad 1.0000</text>\n</g>\n<!-- 139818404885792+ -->\n<g id=\"node6\" class=\"node\">\n<title>139818404885792+</title>\n<ellipse fill=\"none\" stroke=\"black\" cx=\"870\" cy=\"-68.5\" rx=\"27\" ry=\"18\"/>\n<text text-anchor=\"middle\" x=\"870\" y=\"-64.8\" font-family=\"Times,serif\" font-size=\"14.00\">+</text>\n</g>\n<!-- 139818921756800&#45;&gt;139818404885792+ -->\n<g id=\"edge6\" class=\"edge\">\n<title>139818921756800&#45;&gt;139818404885792+</title>\n<path fill=\"none\" stroke=\"black\" d=\"M807.01,-78.19C816.29,-76.74 825.28,-75.34 833.39,-74.07\"/>\n<polygon fill=\"black\" stroke=\"black\" points=\"834.17,-77.49 843.51,-72.48 833.09,-70.57 834.17,-77.49\"/>\n</g>\n<!-- 139818921756800+ -->\n<g id=\"node2\" class=\"node\">\n<title>139818921756800+</title>\n<ellipse fill=\"none\" stroke=\"black\" cx=\"559\" cy=\"-92.5\" rx=\"27\" ry=\"18\"/>\n<text text-anchor=\"middle\" x=\"559\" y=\"-88.8\" font-family=\"Times,serif\" font-size=\"14.00\">+</text>\n</g>\n<!-- 139818921756800+&#45;&gt;139818921756800 -->\n<g id=\"edge1\" class=\"edge\">\n<title>139818921756800+&#45;&gt;139818921756800</title>\n<path fill=\"none\" stroke=\"black\" d=\"M586.04,-92.5C593.58,-92.5 602.3,-92.5 611.57,-92.5\"/>\n<polygon fill=\"black\" stroke=\"black\" points=\"611.81,-96 621.81,-92.5 611.81,-89 611.81,-96\"/>\n</g>\n<!-- 139818404892288 -->\n<g id=\"node3\" class=\"node\">\n<title>139818404892288</title>\n<polygon fill=\"none\" stroke=\"black\" points=\"0,-55.5 0,-91.5 185,-91.5 185,-55.5 0,-55.5\"/>\n<text text-anchor=\"middle\" x=\"11.5\" y=\"-69.8\" font-family=\"Times,serif\" font-size=\"14.00\">b</text>\n<polyline fill=\"none\" stroke=\"black\" points=\"23,-55.5 23,-91.5 \"/>\n<text text-anchor=\"middle\" x=\"63\" y=\"-69.8\" font-family=\"Times,serif\" font-size=\"14.00\">data 2.0000</text>\n<polyline fill=\"none\" stroke=\"black\" points=\"103,-55.5 103,-91.5 \"/>\n<text text-anchor=\"middle\" x=\"144\" y=\"-69.8\" font-family=\"Times,serif\" font-size=\"14.00\">grad 3.0000</text>\n</g>\n<!-- 139818921755024* -->\n<g id=\"node9\" class=\"node\">\n<title>139818921755024*</title>\n<ellipse fill=\"none\" stroke=\"black\" cx=\"248\" cy=\"-45.5\" rx=\"27\" ry=\"18\"/>\n<text text-anchor=\"middle\" x=\"248\" y=\"-41.8\" font-family=\"Times,serif\" font-size=\"14.00\">*</text>\n</g>\n<!-- 139818404892288&#45;&gt;139818921755024* -->\n<g id=\"edge9\" class=\"edge\">\n<title>139818404892288&#45;&gt;139818921755024*</title>\n<path fill=\"none\" stroke=\"black\" d=\"M185.01,-56.81C194.49,-55.08 203.66,-53.41 211.9,-51.9\"/>\n<polygon fill=\"black\" stroke=\"black\" points=\"212.6,-55.33 221.81,-50.09 211.35,-48.45 212.6,-55.33\"/>\n</g>\n<!-- 139818404890368 -->\n<g id=\"node4\" class=\"node\">\n<title>139818404890368</title>\n<polygon fill=\"none\" stroke=\"black\" points=\"311,-82.5 311,-118.5 496,-118.5 496,-82.5 311,-82.5\"/>\n<text text-anchor=\"middle\" x=\"322.5\" y=\"-96.8\" font-family=\"Times,serif\" font-size=\"14.00\">c</text>\n<polyline fill=\"none\" stroke=\"black\" points=\"334,-82.5 334,-118.5 \"/>\n<text text-anchor=\"middle\" x=\"374\" y=\"-96.8\" font-family=\"Times,serif\" font-size=\"14.00\">data 1.0000</text>\n<polyline fill=\"none\" stroke=\"black\" points=\"414,-82.5 414,-118.5 \"/>\n<text text-anchor=\"middle\" x=\"455\" y=\"-96.8\" font-family=\"Times,serif\" font-size=\"14.00\">grad 1.0000</text>\n</g>\n<!-- 139818404890368&#45;&gt;139818921756800+ -->\n<g id=\"edge5\" class=\"edge\">\n<title>139818404890368&#45;&gt;139818921756800+</title>\n<path fill=\"none\" stroke=\"black\" d=\"M496.01,-95.73C505.01,-95.26 513.74,-94.81 521.66,-94.39\"/>\n<polygon fill=\"black\" stroke=\"black\" points=\"522.1,-97.88 531.91,-93.86 521.74,-90.89 522.1,-97.88\"/>\n</g>\n<!-- 139818404885792 -->\n<g id=\"node5\" class=\"node\">\n<title>139818404885792</title>\n<polygon fill=\"none\" stroke=\"black\" points=\"933,-50.5 933,-86.5 1122,-86.5 1122,-50.5 933,-50.5\"/>\n<text text-anchor=\"middle\" x=\"943\" y=\"-64.8\" font-family=\"Times,serif\" font-size=\"14.00\"> </text>\n<polyline fill=\"none\" stroke=\"black\" points=\"953,-50.5 953,-86.5 \"/>\n<text text-anchor=\"middle\" x=\"996.5\" y=\"-64.8\" font-family=\"Times,serif\" font-size=\"14.00\">data 13.0000</text>\n<polyline fill=\"none\" stroke=\"black\" points=\"1040,-50.5 1040,-86.5 \"/>\n<text text-anchor=\"middle\" x=\"1081\" y=\"-64.8\" font-family=\"Times,serif\" font-size=\"14.00\">grad 1.0000</text>\n</g>\n<!-- 139818404885792+&#45;&gt;139818404885792 -->\n<g id=\"edge2\" class=\"edge\">\n<title>139818404885792+&#45;&gt;139818404885792</title>\n<path fill=\"none\" stroke=\"black\" d=\"M897.03,-68.5C904.66,-68.5 913.52,-68.5 922.94,-68.5\"/>\n<polygon fill=\"black\" stroke=\"black\" points=\"922.94,-72 932.94,-68.5 922.94,-65 922.94,-72\"/>\n</g>\n<!-- 139818404890416 -->\n<g id=\"node7\" class=\"node\">\n<title>139818404890416</title>\n<polygon fill=\"none\" stroke=\"black\" points=\"0,-0.5 0,-36.5 185,-36.5 185,-0.5 0,-0.5\"/>\n<text text-anchor=\"middle\" x=\"11.5\" y=\"-14.8\" font-family=\"Times,serif\" font-size=\"14.00\">a</text>\n<polyline fill=\"none\" stroke=\"black\" points=\"23,-0.5 23,-36.5 \"/>\n<text text-anchor=\"middle\" x=\"63\" y=\"-14.8\" font-family=\"Times,serif\" font-size=\"14.00\">data 3.0000</text>\n<polyline fill=\"none\" stroke=\"black\" points=\"103,-0.5 103,-36.5 \"/>\n<text text-anchor=\"middle\" x=\"144\" y=\"-14.8\" font-family=\"Times,serif\" font-size=\"14.00\">grad 2.0000</text>\n</g>\n<!-- 139818404890416&#45;&gt;139818921755024* -->\n<g id=\"edge8\" class=\"edge\">\n<title>139818404890416&#45;&gt;139818921755024*</title>\n<path fill=\"none\" stroke=\"black\" d=\"M185.01,-34.6C194.49,-36.26 203.66,-37.88 211.9,-39.33\"/>\n<polygon fill=\"black\" stroke=\"black\" points=\"211.36,-42.78 221.81,-41.07 212.57,-35.89 211.36,-42.78\"/>\n</g>\n<!-- 139818921755024 -->\n<g id=\"node8\" class=\"node\">\n<title>139818921755024</title>\n<polygon fill=\"none\" stroke=\"black\" points=\"311,-27.5 311,-63.5 496,-63.5 496,-27.5 311,-27.5\"/>\n<text text-anchor=\"middle\" x=\"322.5\" y=\"-41.8\" font-family=\"Times,serif\" font-size=\"14.00\">e</text>\n<polyline fill=\"none\" stroke=\"black\" points=\"334,-27.5 334,-63.5 \"/>\n<text text-anchor=\"middle\" x=\"374\" y=\"-41.8\" font-family=\"Times,serif\" font-size=\"14.00\">data 6.0000</text>\n<polyline fill=\"none\" stroke=\"black\" points=\"414,-27.5 414,-63.5 \"/>\n<text text-anchor=\"middle\" x=\"455\" y=\"-41.8\" font-family=\"Times,serif\" font-size=\"14.00\">grad 1.0000</text>\n</g>\n<!-- 139818921755024&#45;&gt;139818921756800+ -->\n<g id=\"edge4\" class=\"edge\">\n<title>139818921755024&#45;&gt;139818921756800+</title>\n<path fill=\"none\" stroke=\"black\" d=\"M463.57,-63.57C474.36,-66.87 485.52,-70.29 496,-73.5 505.25,-76.33 515.27,-79.4 524.51,-82.23\"/>\n<polygon fill=\"black\" stroke=\"black\" points=\"523.57,-85.61 534.15,-85.19 525.62,-78.91 523.57,-85.61\"/>\n</g>\n<!-- 139818921755024&#45;&gt;139818404885792+ -->\n<g id=\"edge7\" class=\"edge\">\n<title>139818921755024&#45;&gt;139818404885792+</title>\n<path fill=\"none\" stroke=\"black\" d=\"M496.27,-50.04C599.13,-55.14 760.87,-63.15 832.63,-66.7\"/>\n<polygon fill=\"black\" stroke=\"black\" points=\"832.78,-70.21 842.94,-67.21 833.13,-63.22 832.78,-70.21\"/>\n</g>\n<!-- 139818921755024*&#45;&gt;139818921755024 -->\n<g id=\"edge3\" class=\"edge\">\n<title>139818921755024*&#45;&gt;139818921755024</title>\n<path fill=\"none\" stroke=\"black\" d=\"M275.04,-45.5C282.58,-45.5 291.3,-45.5 300.57,-45.5\"/>\n<polygon fill=\"black\" stroke=\"black\" points=\"300.81,-49 310.81,-45.5 300.81,-42 300.81,-49\"/>\n</g>\n</g>\n</svg>\n",
            "text/plain": [
              "<graphviz.graphs.Digraph at 0x7f2a212b25e0>"
            ]
          },
          "metadata": {},
          "execution_count": 31
        }
      ]
    },
    {
      "cell_type": "code",
      "source": [
        "L._backward()"
      ],
      "metadata": {
        "id": "y-tsiWNzaT8O"
      },
      "execution_count": null,
      "outputs": []
    },
    {
      "cell_type": "code",
      "source": [
        "c._backward()"
      ],
      "metadata": {
        "id": "c2hRZ589aj_1"
      },
      "execution_count": null,
      "outputs": []
    },
    {
      "cell_type": "code",
      "source": [
        "c.grad"
      ],
      "metadata": {
        "colab": {
          "base_uri": "https://localhost:8080/"
        },
        "id": "BCQja386anRv",
        "outputId": "6c01ac33-f8ea-4343-d9e6-b21b9984c940"
      },
      "execution_count": null,
      "outputs": [
        {
          "output_type": "execute_result",
          "data": {
            "text/plain": [
              "0.0"
            ]
          },
          "metadata": {},
          "execution_count": 23
        }
      ]
    },
    {
      "cell_type": "code",
      "source": [
        "e._backward()"
      ],
      "metadata": {
        "id": "Qy621USIbT4I"
      },
      "execution_count": null,
      "outputs": []
    }
  ]
}