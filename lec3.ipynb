{
 "cells": [
  {
   "cell_type": "code",
   "execution_count": 2,
   "metadata": {},
   "outputs": [],
   "source": [
    "import torch\n",
    "import torch.nn.functional as F\n",
    "import matplotlib.pyplot as plt # for making figures\n",
    "%matplotlib inline"
   ]
  },
  {
   "cell_type": "code",
   "execution_count": 4,
   "metadata": {},
   "outputs": [],
   "source": [
    "words = open('names.txt', 'r').read().splitlines()"
   ]
  },
  {
   "cell_type": "code",
   "execution_count": 5,
   "metadata": {},
   "outputs": [],
   "source": [
    "def give_index(c):\n",
    "  if c == '<S>':\n",
    "    return 26\n",
    "  elif c == '<E>':\n",
    "    return 27\n",
    "  else:\n",
    "    return ord(c) - 97"
   ]
  },
  {
   "cell_type": "code",
   "execution_count": 5,
   "metadata": {},
   "outputs": [
    {
     "name": "stdout",
     "output_type": "stream",
     "text": [
      "use ('<S>', '<S>', '<S>') to predict e\n",
      "use ('<S>', '<S>', 'e') to predict m\n",
      "use ('<S>', 'e', 'm') to predict m\n",
      "use ('e', 'm', 'm') to predict a\n",
      "use ('m', 'm', 'a') to predict <E>\n"
     ]
    }
   ],
   "source": [
    "x = []\n",
    "y = []\n",
    "context_len = 3 # number of chars u want to use to predict next char\n",
    "for word in words[:1]:\n",
    "    chs = ['<S>']*context_len + list(word) + ['<E>']\n",
    "    for i1,i2,i3,out in zip(chs, chs[1:], chs[2:], chs[3:]):\n",
    "        x.append([ give_index(i1),give_index(i2),give_index(i3)  ])\n",
    "        y.append(give_index(out))\n",
    "        print(f\"use {i1, i2, i3} to predict {out}\")"
   ]
  },
  {
   "cell_type": "code",
   "execution_count": 6,
   "metadata": {},
   "outputs": [
    {
     "name": "stdout",
     "output_type": "stream",
     "text": [
      "x = [[26, 26, 26], [26, 26, 4], [26, 4, 12], [4, 12, 12], [12, 12, 0]]\n",
      "y = [4, 12, 12, 0, 27]\n"
     ]
    }
   ],
   "source": [
    "# test x,y\n",
    "print('x =',x)\n",
    "print('y =',y)"
   ]
  },
  {
   "cell_type": "code",
   "execution_count": 6,
   "metadata": {},
   "outputs": [],
   "source": [
    "# architecture\n",
    "# for each example\n",
    "\n",
    "# input: 6 x 1 (3 chars, each char 2 x 1)\n",
    "# input layer 6 neurons\n",
    "\n",
    "# hidden layer\n",
    "# num of neurons: 100\n",
    "# weights from input to hidden: 100 x 6\n",
    "# output of hidden layer: 100 x 6 @ 6 x 1 = 100 x 1(each neuron one output)\n",
    "\n",
    "\n",
    "# output layer\n",
    "# num of neurons: 28 (each spitting prob of 28th character)\n",
    "# weights from hidden to output layer: 28 x 100\n",
    "# output of output layer: 28 x 100 @ 100 x 1 = 28 x 1\n",
    "\n",
    "# ----------------------------\n",
    "# for N examples\n",
    "# input: 6 x N (3 chars, each char 2 x 1)\n",
    "# input layer 6 neurons\n",
    "\n",
    "# hidden layer\n",
    "# num of neurons: 100\n",
    "# weights from input to hidden: 100 x 6\n",
    "# output of hidden layer: 100 x 6 @ 6 x N = 100 x N(each neuron one output)\n",
    "\n",
    "\n",
    "# output layer\n",
    "# num of neurons: 28 (each spitting prob of 28th character)\n",
    "# weights from hidden to output layer: 28 x 100\n",
    "# output of output layer: 28 x 100 @ 100 x N = 28 x N\n"
   ]
  },
  {
   "cell_type": "code",
   "execution_count": 7,
   "metadata": {},
   "outputs": [],
   "source": [
    "x = torch.tensor(x)\n",
    "y = torch.tensor(y)    "
   ]
  },
  {
   "cell_type": "code",
   "execution_count": 125,
   "metadata": {},
   "outputs": [
    {
     "data": {
      "text/plain": [
       "tensor([[-1.9165,  0.4614],\n",
       "        [ 0.0275, -0.9624],\n",
       "        [ 0.0558, -0.6437],\n",
       "        [-1.8776, -0.7660],\n",
       "        [ 0.7986, -0.3348],\n",
       "        [-0.9866, -1.4661],\n",
       "        [-1.7200, -0.6349],\n",
       "        [ 2.0869,  0.1334],\n",
       "        [ 0.2272, -1.5672],\n",
       "        [-0.2518,  0.3543],\n",
       "        [ 0.7454, -3.4514],\n",
       "        [ 0.4925, -1.8462],\n",
       "        [-1.7644, -1.0021],\n",
       "        [ 0.2661, -2.6085],\n",
       "        [ 1.6288,  0.7787],\n",
       "        [-1.7137, -1.2363],\n",
       "        [ 0.0320,  0.9926],\n",
       "        [ 1.0834, -2.7976],\n",
       "        [-1.4099,  0.6822],\n",
       "        [ 2.0771, -0.8089],\n",
       "        [-0.8195,  0.2657],\n",
       "        [-0.6958,  1.1503],\n",
       "        [-1.2117,  0.9347],\n",
       "        [-0.9772,  0.0831],\n",
       "        [ 1.4448,  1.1502],\n",
       "        [ 0.3567, -1.4130],\n",
       "        [ 1.0921, -2.4278],\n",
       "        [-0.4865,  1.0043]], requires_grad=True)"
      ]
     },
     "execution_count": 125,
     "metadata": {},
     "output_type": "execute_result"
    }
   ],
   "source": [
    "# embeddings input\n",
    "emb = torch.randn((28,2), requires_grad=True) # each word is 1 x 2 vector\n",
    "emb "
   ]
  },
  {
   "cell_type": "code",
   "execution_count": 20,
   "metadata": {},
   "outputs": [
    {
     "name": "stdout",
     "output_type": "stream",
     "text": [
      "torch.Size([6, 5])\n"
     ]
    }
   ],
   "source": [
    "# input layer\n",
    "input_vec = emb[x] # n inputs x 3 x 2\n",
    "input_vec_reshape = input_vec.view(input_vec.shape[0], 6)\n",
    "input_vec_reshape_t = torch.transpose(input_vec_reshape,0,1) # n inputs x 6\n",
    "print(input_vec_reshape_t.shape)"
   ]
  },
  {
   "cell_type": "code",
   "execution_count": 124,
   "metadata": {},
   "outputs": [
    {
     "name": "stdout",
     "output_type": "stream",
     "text": [
      "torch.Size([100, 5])\n"
     ]
    }
   ],
   "source": [
    "# hidden Layer\n",
    "W1 = torch.randn(100,6,requires_grad=True) # 100 neurons, each neuron will get 6 x 1 input(3 chars, each char 2x1)\n",
    "b1 = torch.randn(100,1,requires_grad=True)\n",
    "\n",
    "output_of_hidden_layer = torch.tanh( (W1 @ input_vec_reshape_t ) + b1 )\n",
    "print(output_of_hidden_layer.shape) # 100 x N"
   ]
  },
  {
   "cell_type": "code",
   "execution_count": 126,
   "metadata": {},
   "outputs": [
    {
     "name": "stdout",
     "output_type": "stream",
     "text": [
      "torch.Size([28, 5])\n"
     ]
    }
   ],
   "source": [
    "# output\n",
    "W2 = torch.rand(28,100, requires_grad=True)\n",
    "b2 = torch.rand(28,1, requires_grad=True)\n",
    "\n",
    "output_of_output_layer = (W2 @ output_of_hidden_layer) + b2\n",
    "print(output_of_output_layer.shape) # 28  X N"
   ]
  },
  {
   "cell_type": "code",
   "execution_count": 76,
   "metadata": {},
   "outputs": [
    {
     "name": "stdout",
     "output_type": "stream",
     "text": [
      "torch.Size([28, 5])\n"
     ]
    }
   ],
   "source": [
    "# softmax of output layer\n",
    "counts = torch.exp(output_of_output_layer)\n",
    "prob  = counts / counts.sum(0, keepdims=True)\n",
    "print(prob.shape) \n",
    "# for each of 5 inputs, each column gives the prob of rth character, r is neuron index\n",
    "# r neurons spits prob of r index char"
   ]
  },
  {
   "cell_type": "code",
   "execution_count": 132,
   "metadata": {},
   "outputs": [
    {
     "name": "stdout",
     "output_type": "stream",
     "text": [
      "tensor(3.9238, grad_fn=<NegBackward0>)\n",
      "tensor(3.9238, grad_fn=<NllLossBackward0>)\n"
     ]
    }
   ],
   "source": [
    "# neg log loss using pytorch\n",
    "N_examples = x.shape[0]\n",
    "loss = -prob[y,torch.arange(N_examples)].log().mean()\n",
    "print(loss)\n",
    "\n",
    "print( F.cross_entropy(torch.transpose(output_of_output_layer,  0,1), y) )"
   ]
  },
  {
   "cell_type": "code",
   "execution_count": null,
   "metadata": {},
   "outputs": [],
   "source": [
    "# All at one place"
   ]
  },
  {
   "cell_type": "code",
   "execution_count": 89,
   "metadata": {},
   "outputs": [],
   "source": [
    "# inputs and outputs\n",
    "x = []\n",
    "y = []\n",
    "context_len = 3 # number of chars u want to use to predict next char\n",
    "for word in words:\n",
    "    chs = ['<S>']*context_len + list(word) + ['<E>']\n",
    "    for i1,i2,i3,out in zip(chs, chs[1:], chs[2:], chs[3:]):\n",
    "        x.append([ give_index(i1),give_index(i2),give_index(i3)  ])\n",
    "        y.append(give_index(out))\n",
    "#         print(f\"use {i1, i2, i3} to predict {out}\")\n",
    "\n",
    "x = torch.tensor(x)\n",
    "y = torch.tensor(y)    "
   ]
  },
  {
   "cell_type": "code",
   "execution_count": 90,
   "metadata": {},
   "outputs": [],
   "source": [
    "# parmeters\n",
    "emb = torch.randn((28,2), requires_grad=True) # each word is 1 x 2 vector\n",
    "W1 = torch.randn(100,6,requires_grad=True) # 100 neurons, each neuron will get 6 x 1 input(3 chars, each char 2x1)\n",
    "b1 = torch.randn(100,1,requires_grad=True)\n",
    "W2 = torch.rand(28,100, requires_grad=True)\n",
    "b2 = torch.rand(28,1, requires_grad=True)"
   ]
  },
  {
   "cell_type": "code",
   "execution_count": 91,
   "metadata": {},
   "outputs": [],
   "source": [
    "# all params at one place\n",
    "all_params = [emb, W1, b1, W2, b2]"
   ]
  },
  {
   "cell_type": "code",
   "execution_count": 11,
   "metadata": {},
   "outputs": [
    {
     "name": "stdout",
     "output_type": "stream",
     "text": [
      "loss =  2.507465124130249\n"
     ]
    },
    {
     "data": {
      "image/png": "[encoded data removed]",
      "text/plain": [
       "<Figure size 432x288 with 1 Axes>"
      ]
     },
     "metadata": {},
     "output_type": "display_data"
    }
   ],
   "source": [
    "# forward and backward pass in loop\n",
    "loss_over_time = []\n",
    "for _ in range(50):\n",
    "    # forward pass\n",
    "    input_vec = emb[x] # n inputs x 3 x 2\n",
    "    input_vec_reshape = input_vec.view(input_vec.shape[0], 6)\n",
    "    input_vec_reshape_t = torch.transpose(input_vec_reshape,0,1) # n inputs x 6\n",
    "    \n",
    "    output_of_hidden_layer = torch.tanh( (W1 @ input_vec_reshape_t ) + b1 )\n",
    "    \n",
    "    output_of_output_layer = (W2 @ output_of_hidden_layer) + b2\n",
    "    \n",
    "    # loss\n",
    "    neg_log_likehood = F.cross_entropy(torch.transpose(output_of_output_layer,  0,1), y)\n",
    "    loss_over_time.append(neg_log_likehood.item())\n",
    "    plt.plot(range(1,len(loss_over_time)+1),loss_over_time)\n",
    "\n",
    "    # backward pass\n",
    "    for p in all_params:\n",
    "        p.grad = None\n",
    "    neg_log_likehood.backward()\n",
    "    \n",
    "\n",
    "    # gradient descent\n",
    "    for p in all_params:\n",
    "        p.data += -0.2*p.grad\n",
    "print('loss = ',loss_over_time[-1])"
   ]
  },
  {
   "cell_type": "code",
   "execution_count": 132,
   "metadata": {},
   "outputs": [
    {
     "data": {
      "image/png": "[encoded data removed]",
      "text/plain": [
       "<Figure size 432x288 with 1 Axes>"
      ]
     },
     "metadata": {},
     "output_type": "display_data"
    },
    {
     "name": "stdout",
     "output_type": "stream",
     "text": [
      "loss  2.3551459312438965\n"
     ]
    }
   ],
   "source": [
    "# using mini batch \n",
    "loss_over_time = []\n",
    "for _ in range(5000):\n",
    "    ix = torch.randint(0, x.shape[0], (100,))\n",
    "    \n",
    "    # forward pass\n",
    "    input_vec = emb[x[ix]] # n inputs x 3 x 2\n",
    "    input_vec_reshape = input_vec.view(input_vec.shape[0], 6)\n",
    "    input_vec_reshape_t = torch.transpose(input_vec_reshape,0,1) # n inputs x 6\n",
    "    \n",
    "    output_of_hidden_layer = torch.tanh( (W1 @ input_vec_reshape_t ) + b1 )\n",
    "    \n",
    "    output_of_output_layer = (W2 @ output_of_hidden_layer) + b2\n",
    "    \n",
    "    # loss\n",
    "    neg_log_likehood = F.cross_entropy(torch.transpose(output_of_output_layer,  0,1), y[ix])\n",
    "    loss_over_time.append(neg_log_likehood.item())\n",
    "    plt.plot(range(1,len(loss_over_time)+1),loss_over_time)\n",
    "\n",
    "    # backward pass\n",
    "    for p in all_params:\n",
    "        p.grad = None\n",
    "    neg_log_likehood.backward()\n",
    "    \n",
    "\n",
    "    # gradient descent\n",
    "    for p in all_params:\n",
    "        p.data += -0.1*p.grad\n",
    "\n",
    "plt.show()\n",
    "input_vec = emb[x] # n inputs x 3 x 2\n",
    "input_vec_reshape = input_vec.view(input_vec.shape[0], 6)\n",
    "input_vec_reshape_t = torch.transpose(input_vec_reshape,0,1) # n inputs x 6\n",
    "output_of_hidden_layer = torch.tanh( (W1 @ input_vec_reshape_t ) + b1 )\n",
    "output_of_output_layer = (W2 @ output_of_hidden_layer) + b2\n",
    "# loss\n",
    "neg_log_likehood = F.cross_entropy(torch.transpose(output_of_output_layer,  0,1), y)\n",
    "print('loss ',neg_log_likehood.item())\n"
   ]
  },
  {
   "cell_type": "code",
   "execution_count": 89,
   "metadata": {},
   "outputs": [
    {
     "name": "stdout",
     "output_type": "stream",
     "text": [
      "tensor([1])\n",
      "tensor([2])\n"
     ]
    }
   ],
   "source": [
    "# Appendix - variable is updated when u update in loop, pass by reference\n",
    "q = torch.tensor([1])\n",
    "qqq = [q]\n",
    "print(q)\n",
    "for i in qqq:\n",
    "    i = i*2\n",
    "\n",
    "print(i)"
   ]
  },
  {
   "cell_type": "code",
   "execution_count": null,
   "metadata": {},
   "outputs": [],
   "source": [
    "# Notes\n",
    "# ### Right way of testing model\n",
    "# divide into train, dev and test set\n",
    "# train to optimize parameters - weights, bias, embeddings\n",
    "# test to optimize hyper params - num of neurons, embedding size\n",
    "\n",
    "### things that can be tuned\n",
    "# inc num of neurons in hidden layer\n",
    "# inc dimensionality of embedding\n"
   ]
  },
  {
   "cell_type": "code",
   "execution_count": 20,
   "metadata": {},
   "outputs": [
    {
     "data": {
      "text/plain": [
       "torch.Size([28, 2])"
      ]
     },
     "execution_count": 20,
     "metadata": {},
     "output_type": "execute_result"
    }
   ],
   "source": [
    "emb.shape"
   ]
  },
  {
   "cell_type": "code",
   "execution_count": 133,
   "metadata": {},
   "outputs": [
    {
     "data": {
      "image/png": "[encoded data removed]",
      "text/plain": [
       "<Figure size 576x576 with 1 Axes>"
      ]
     },
     "metadata": {},
     "output_type": "display_data"
    }
   ],
   "source": [
    "# visualize dimensions 0 and 1 of the embedding matrix C for all characters\n",
    "def give_char(num):\n",
    "    if num == 26:\n",
    "        c = '<S>'\n",
    "    elif num == 27:\n",
    "        c = '<E>'\n",
    "    else:    \n",
    "        c = chr(num + 97)\n",
    "    \n",
    "    return c\n",
    "\n",
    "C = emb\n",
    "plt.figure(figsize=(8,8))\n",
    "plt.scatter(C[:,0].data, C[:,1].data, s=200)\n",
    "for i in range(C.shape[0]):\n",
    "    plt.text(C[i,0].item(), C[i,1].item(), give_char(i), ha=\"center\", va=\"center\", color='white')\n",
    "plt.grid('minor')\n"
   ]
  },
  {
   "cell_type": "code",
   "execution_count": 138,
   "metadata": {},
   "outputs": [
    {
     "name": "stdout",
     "output_type": "stream",
     "text": [
      "<S><S><S>xai<E>\n",
      "<S><S><S>astin<E>\n",
      "<S><S><S>mini<E>\n",
      "<S><S><S>dariah<E>\n",
      "<S><S><S>ramda<E>\n",
      "<S><S><S>xacion<E>\n",
      "<S><S><S>anamibah<E>\n",
      "<S><S><S>emhoni<E>\n",
      "<S><S><S>juara<E>\n",
      "<S><S><S>mek<E>\n"
     ]
    }
   ],
   "source": [
    "# some bug in torch.multinomial\n",
    "# sample\n",
    "for _ in range(10):\n",
    "    out = [26,26,26]\n",
    "    while True:\n",
    "        input_vec = emb[out[-3:]] # n inputs x 3 x 2\n",
    "        input_vec_reshape = input_vec.view(1, 6) \n",
    "        input_vec_reshape_t = torch.transpose(input_vec_reshape,0,1) # 6 x 1\n",
    "        output_of_hidden_layer = torch.tanh( (W1 @ input_vec_reshape_t ) + b1 ) # 100 x 1 \n",
    "        output_of_output_layer = (W2 @ output_of_hidden_layer) + b2 # 28 x 1\n",
    "        counts = torch.exp(output_of_output_layer) \n",
    "        prob  = counts / counts.sum(0, keepdims=True)\n",
    "        ix = torch.multinomial(torch.transpose(prob,0,1), num_samples=1, replacement=True)[0].item()\n",
    "        out.append(ix)\n",
    "        if ix == 27:\n",
    "            break\n",
    "        \n",
    "    print(''.join(give_char(i) for i in out))\n",
    "\n",
    "\n"
   ]
  }
 ],
 "metadata": {
  "kernelspec": {
   "display_name": "Python 3",
   "language": "python",
   "name": "python3"
  },
  "language_info": {
   "codemirror_mode": {
    "name": "ipython",
    "version": 3
   },
   "file_extension": ".py",
   "mimetype": "text/x-python",
   "name": "python",
   "nbconvert_exporter": "python",
   "pygments_lexer": "ipython3",
   "version": "3.6.9"
  }
 },
 "nbformat": 4,
 "nbformat_minor": 2
}
