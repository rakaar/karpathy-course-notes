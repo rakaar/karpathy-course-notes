{
 "cells": [
  {
   "cell_type": "code",
   "execution_count": 3,
   "id": "4ac340d9",
   "metadata": {},
   "outputs": [
    {
     "name": "stdout",
     "output_type": "stream",
     "text": [
      "32033\n",
      "15\n",
      "['emma', 'olivia', 'ava', 'isabella', 'sophia', 'charlotte', 'mia', 'amelia']\n",
      "{1: 'a', 2: 'b', 3: 'c', 4: 'd', 5: 'e', 6: 'f', 7: 'g', 8: 'h', 9: 'i', 10: 'j', 11: 'k', 12: 'l', 13: 'm', 14: 'n', 15: 'o', 16: 'p', 17: 'q', 18: 'r', 19: 's', 20: 't', 21: 'u', 22: 'v', 23: 'w', 24: 'x', 25: 'y', 26: 'z', 0: '.'}\n",
      "27\n",
      "torch.Size([182625, 3]) torch.Size([182625])\n",
      "torch.Size([22655, 3]) torch.Size([22655])\n",
      "torch.Size([22866, 3]) torch.Size([22866])\n"
     ]
    }
   ],
   "source": [
    "#### boiler plate code\n",
    "import torch\n",
    "import torch.nn.functional as F\n",
    "import matplotlib.pyplot as plt # for making figures\n",
    "%matplotlib inline\n",
    "\n",
    "\n",
    "# read in all the words\n",
    "words = open('names.txt', 'r').read().splitlines()\n",
    "print(len(words))\n",
    "print(max(len(w) for w in words))\n",
    "print(words[:8])\n",
    "\n",
    "# build the vocabulary of characters and mappings to/from integers\n",
    "chars = sorted(list(set(''.join(words))))\n",
    "stoi = {s:i+1 for i,s in enumerate(chars)}\n",
    "stoi['.'] = 0\n",
    "itos = {i:s for s,i in stoi.items()}\n",
    "vocab_size = len(itos)\n",
    "print(itos)\n",
    "print(vocab_size)\n",
    "\n",
    "\n",
    "# build the dataset\n",
    "block_size = 3 # context length: how many characters do we take to predict the next one?\n",
    "\n",
    "def build_dataset(words):  \n",
    "  X, Y = [], []\n",
    "  \n",
    "  for w in words:\n",
    "    context = [0] * block_size\n",
    "    for ch in w + '.':\n",
    "      ix = stoi[ch]\n",
    "      X.append(context)\n",
    "      Y.append(ix)\n",
    "      context = context[1:] + [ix] # crop and append\n",
    "\n",
    "  X = torch.tensor(X)\n",
    "  Y = torch.tensor(Y)\n",
    "  print(X.shape, Y.shape)\n",
    "  return X, Y\n",
    "\n",
    "import random\n",
    "random.seed(42)\n",
    "random.shuffle(words)\n",
    "n1 = int(0.8*len(words))\n",
    "n2 = int(0.9*len(words))\n",
    "\n",
    "Xtr,  Ytr  = build_dataset(words[:n1])     # 80%\n",
    "Xdev, Ydev = build_dataset(words[n1:n2])   # 10%\n",
    "Xte,  Yte  = build_dataset(words[n2:])     # 10%"
   ]
  },
  {
   "cell_type": "code",
   "execution_count": 4,
   "id": "5777935d",
   "metadata": {},
   "outputs": [],
   "source": [
    "# utility function we will use later when comparing manual gradients to PyTorch gradients\n",
    "def cmp(s, dt, t):\n",
    "  ex = torch.all(dt == t.grad).item()\n",
    "  app = torch.allclose(dt, t.grad)\n",
    "  maxdiff = (dt - t.grad).abs().max().item()\n",
    "  print(f'{s:15s} | exact: {str(ex):5s} | approximate: {str(app):5s} | maxdiff: {maxdiff}')"
   ]
  },
  {
   "cell_type": "code",
   "execution_count": 9,
   "id": "be41feb4",
   "metadata": {},
   "outputs": [
    {
     "name": "stdout",
     "output_type": "stream",
     "text": [
      "4137\n"
     ]
    }
   ],
   "source": [
    "n_embd = 10 # the dimensionality of the character embedding vectors\n",
    "n_hidden = 64 # the number of neurons in the hidden layer of the MLP\n",
    "\n",
    "g = torch.Generator().manual_seed(2147483647) # for reproducibility\n",
    "C  = torch.randn((vocab_size, n_embd),            generator=g)\n",
    "# Layer 1\n",
    "W1 = torch.randn((n_embd * block_size, n_hidden), generator=g) * (5/3)/((n_embd * block_size)**0.5) # 30,64\n",
    "b1 = torch.randn(n_hidden,                        generator=g) * 0.1 # using b1 just for fun, it's useless because of BN\n",
    "# Layer 2\n",
    "W2 = torch.randn((n_hidden, vocab_size),          generator=g) * 0.1 # 27 x 64\n",
    "b2 = torch.randn(vocab_size,                      generator=g) * 0.1\n",
    "# BatchNorm parameters\n",
    "bngain = torch.randn((1, n_hidden))*0.1 + 1.0\n",
    "bnbias = torch.randn((1, n_hidden))*0.1\n",
    "\n",
    "# Note: I am initializating many of these parameters in non-standard ways\n",
    "# because sometimes initializating with e.g. all zeros could mask an incorrect\n",
    "# implementation of the backward pass.\n",
    "\n",
    "parameters = [C, W1, b1, W2, b2, bngain, bnbias]\n",
    "print(sum(p.nelement() for p in parameters)) # number of parameters in total\n",
    "for p in parameters:\n",
    "  p.requires_grad = True"
   ]
  },
  {
   "cell_type": "code",
   "execution_count": 12,
   "id": "eb8155e0",
   "metadata": {},
   "outputs": [],
   "source": [
    "batch_size = 32\n",
    "n = batch_size # a shorter variable also, for convenience\n",
    "# construct a minibatch\n",
    "ix = torch.randint(0, Xtr.shape[0], (batch_size,), generator=g)\n",
    "Xb, Yb = Xtr[ix], Ytr[ix] # batch X,Y"
   ]
  },
  {
   "cell_type": "code",
   "execution_count": 17,
   "id": "c20fcd61",
   "metadata": {},
   "outputs": [
    {
     "data": {
      "text/plain": [
       "tensor([ 0, 15,  1, 18, 18, 19,  0, 12,  1, 22,  5, 14, 11,  9, 11, 25,  0, 14,\n",
       "         3,  9, 25,  5,  9,  8,  9,  1,  5,  5, 11, 14,  1,  5])"
      ]
     },
     "execution_count": 17,
     "metadata": {},
     "output_type": "execute_result"
    }
   ],
   "source": [
    "Ytr[ix]"
   ]
  },
  {
   "cell_type": "code",
   "execution_count": 29,
   "id": "477d190a",
   "metadata": {},
   "outputs": [
    {
     "name": "stdout",
     "output_type": "stream",
     "text": [
      "bnvar  torch.Size([1, 64])\n",
      "probs torch.Size([32, 27])\n",
      "tensor(3.4764, grad_fn=<NegBackward0>)\n"
     ]
    },
    {
     "data": {
      "text/plain": [
       "tensor(3.4764, grad_fn=<NegBackward0>)"
      ]
     },
     "execution_count": 29,
     "metadata": {},
     "output_type": "execute_result"
    }
   ],
   "source": [
    "# forward pass, \"chunkated\" into smaller steps that are possible to backward one at a time\n",
    "\n",
    "emb = C[Xb] # embed the characters into vectors\n",
    "embcat = emb.view(emb.shape[0], -1) # concatenate the vectors\n",
    "# Linear layer 1\n",
    "hprebn = embcat @ W1 + b1 # hidden layer pre-activation 32 examples x 64 output neurons(32 egs x 30 emb   x   30 x 64 = 32 egs x 64)\n",
    "\n",
    "# BatchNorm layer\n",
    "bnmeani = 1/n*hprebn.sum(0, keepdim=True) # 32 x 1\n",
    "\n",
    "bndiff = hprebn - bnmeani # 32 x 64 - 32 x 1 (broadcast 64 times) = 32 x 64\n",
    "bndiff2 = bndiff**2 # squaring each term - 32 x 64\n",
    "bnvar = 1/(n-1)*(bndiff2).sum(0, keepdim=True) # note: Bessel's correction (dividing by n-1, not n) # 1 x 64\n",
    "\n",
    "print('bnvar ',bnvar.shape) \n",
    "bnvar_inv = (bnvar + 1e-5)**-0.5\n",
    "bnraw = bndiff * bnvar_inv\n",
    "hpreact = bngain * bnraw + bnbias\n",
    "# Non-linearity\n",
    "h = torch.tanh(hpreact) # hidden layer\n",
    "# Linear layer 2\n",
    "logits = h @ W2 + b2 # output layer\n",
    "# cross entropy loss (same as F.cross_entropy(logits, Yb))\n",
    "logit_maxes = logits.max(1, keepdim=True).values\n",
    "norm_logits = logits - logit_maxes # subtract max for numerical stability\n",
    "counts = norm_logits.exp()\n",
    "counts_sum = counts.sum(1, keepdims=True)\n",
    "counts_sum_inv = counts_sum**-1 # if I use (1.0 / counts_sum) instead then I can't get backprop to be bit exact...\n",
    "probs = counts * counts_sum_inv\n",
    "logprobs = probs.log()\n",
    "print('probs', logprobs.shape)\n",
    "loss = -logprobs[range(n), Yb].mean()\n",
    "\n",
    "\n",
    "# PyTorch backward pass\n",
    "for p in parameters:\n",
    "  p.grad = None\n",
    "for t in [logprobs, probs, counts, counts_sum, counts_sum_inv, # afaik there is no cleaner way\n",
    "          norm_logits, logit_maxes, logits, h, hpreact, bnraw,\n",
    "         bnvar_inv, bnvar, bndiff2, bndiff, hprebn, bnmeani,\n",
    "         embcat, emb]:\n",
    "  t.retain_grad()\n",
    "loss.backward()\n",
    "loss"
   ]
  },
  {
   "cell_type": "code",
   "execution_count": 91,
   "id": "480a00f1",
   "metadata": {},
   "outputs": [
    {
     "name": "stdout",
     "output_type": "stream",
     "text": [
      "dloss/dlogprobs | exact: True  | approximate: True  | maxdiff: 0.0\n",
      "dloss/dprobs    | exact: True  | approximate: True  | maxdiff: 0.0\n",
      "dloss_by_dcounts_sum_inv | exact: True  | approximate: True  | maxdiff: 0.0\n",
      "dloss_by_dcounts_sum | exact: True  | approximate: True  | maxdiff: 0.0\n",
      "dloss_by_dcounts | exact: True  | approximate: True  | maxdiff: 0.0\n",
      "dloss_by_dnorm_logits | exact: True  | approximate: True  | maxdiff: 0.0\n",
      "dloss_by_dlogits | exact: False | approximate: True  | maxdiff: 8.847564458847046e-09\n",
      "torch.Size([32, 1])\n",
      "dloss_by_dlogit_maxes | exact: False | approximate: False | maxdiff: 0.03089386597275734\n"
     ]
    }
   ],
   "source": [
    "### back prop step by step\n",
    "# loss = 1/32(-loss1 + -loss2 + -loss3 ... -loss32)\n",
    "# dloss/logprobs = -1/32 the ones that are participating, Yb column ones\n",
    "# dloss/logprobs = 0, the rest of the columns\n",
    "dloss_by_dlogprobs = torch.zeros(32,27)\n",
    "dloss_by_dlogprobs[range(n), Yb] = -1/32\n",
    "\n",
    "cmp('dloss/dlogprobs', dloss_by_dlogprobs, logprobs)\n",
    "\n",
    "dlogprobs_by_dprobs = 1/probs\n",
    "dloss_by_dprobs = dloss_by_dlogprobs * dlogprobs_by_dprobs\n",
    "\n",
    "cmp('dloss/dprobs ', dloss_by_dprobs, probs)\n",
    "\n",
    "dprobs_by_dcounts_sum_inv = counts\n",
    "dloss_by_dcounts_sum_inv = (dprobs_by_dcounts_sum_inv * dloss_by_dprobs).sum(1, keepdim=True)\n",
    "\n",
    "# 32 x 27\n",
    "# 2 example, 2 x 27\n",
    "# probs = counts=2 x 27  * counts_sum_inv=2 x 1(2 x 27)\n",
    "# c1*a c2*a ,,,c27*a\n",
    "# d1*b d2*b ,,,d27*b\n",
    "# loss due to a will be additive!\n",
    "# c1 + c2 + c3..\n",
    "# d1 + d2 + d3..\n",
    "cmp('dloss_by_dcounts_sum_inv', dloss_by_dcounts_sum_inv, counts_sum_inv)\n",
    "# print(dloss_by_dcounts_sum_inv.shape)\n",
    "\n",
    "# print(counts.shape) # 32 x 27\n",
    "dprobs_by_dcounts = counts_sum_inv\n",
    "# print(dprobs_by_dcounts.shape) # 32 x 1\n",
    "# print(dloss_by_dprobs.shape) # 32 x 27\n",
    "dloss_by_dcounts = dprobs_by_dcounts * dloss_by_dprobs # 32 x 27\n",
    "# print(dloss_by_dcounts.shape)\n",
    "# cmp('dloss_by_dcounts', dloss_by_dcounts, counts)\n",
    "# THIS IS FALSE BECAUSE counts is used at 2 places, other contri is not counted\n",
    "\n",
    "# print(counts_sum_inv.shape) # 32 x 1\n",
    "# counts_sum_inv = counts_sum**-1 # if I use (1.0 / counts_sum) instead then I can't get backprop to be bit exact...\n",
    "# print(counts_sum.shape) # 32 x 1\n",
    "dcounts_sum_inv_by_dcounts_sum = -(counts_sum**-2)\n",
    "dloss_by_dcounts_sum = dloss_by_dcounts_sum_inv * dcounts_sum_inv_by_dcounts_sum\n",
    "cmp('dloss_by_dcounts_sum',dloss_by_dcounts_sum, counts_sum)\n",
    "\n",
    "# counts_sum = counts.sum(1, keepdims=True)\n",
    "# print(counts_sum.shape) # 32 x 1\n",
    "# print(counts.shape) # 32 x 27\n",
    "# 32 x 27 -> 32 x 1 \n",
    "# a1 a2 a27\n",
    "# b1 b2 b27\n",
    "\n",
    "dcounts_sum_by_dcounts = torch.ones(32,27)\n",
    "dloss_by_dcounts += dloss_by_dcounts_sum * dcounts_sum_by_dcounts\n",
    "cmp('dloss_by_dcounts',dloss_by_dcounts,counts)\n",
    "\n",
    "# counts = norm_logits.exp()\n",
    "dcounts_by_dnorm_logits = norm_logits.exp()\n",
    "dloss_by_dnorm_logits = dloss_by_dcounts * dcounts_by_dnorm_logits\n",
    "cmp('dloss_by_dnorm_logits', dloss_by_dnorm_logits, norm_logits)\n",
    "\n",
    "\n",
    "# norm_logits = logits - logit_maxes # subtract max for numerical stability\n",
    "# print(logits.shape) # 32 x 27\n",
    "# print(logit_maxes.shape) # 32 x 1\n",
    "dnorm_logits_by_dlogits = torch.ones_like(logits)\n",
    "dloss_by_dlogits = dloss_by_dnorm_logits * dnorm_logits_by_dlogits\n",
    "cmp('dloss_by_dlogits',dloss_by_dlogits,logits)\n",
    "# This will be false because logits has one more branch\n",
    "\n",
    "# print(logit_maxes.shape) # 32 x 1\n",
    "dnorm_logits_by_dlogit_maxes = -torch.ones(32,1)\n",
    "dloss_by_dlogit_maxes = dloss_by_dnorm_logits * dnorm_logits_by_dlogit_maxes\n",
    "# print(dnorm_logits_by_dlogit_maxes.shape) # 32 x 1\n",
    "cmp('dloss_by_dlogit_maxes', dloss_by_dlogit_maxes, logit_maxes)"
   ]
  }
 ],
 "metadata": {
  "kernelspec": {
   "display_name": "Python 3 (ipykernel)",
   "language": "python",
   "name": "python3"
  },
  "language_info": {
   "codemirror_mode": {
    "name": "ipython",
    "version": 3
   },
   "file_extension": ".py",
   "mimetype": "text/x-python",
   "name": "python",
   "nbconvert_exporter": "python",
   "pygments_lexer": "ipython3",
   "version": "3.10.6"
  }
 },
 "nbformat": 4,
 "nbformat_minor": 5
}
