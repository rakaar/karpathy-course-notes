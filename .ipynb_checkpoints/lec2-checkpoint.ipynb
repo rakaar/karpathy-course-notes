{
 "cells": [
  {
   "cell_type": "code",
   "execution_count": 206,
   "metadata": {},
   "outputs": [],
   "source": [
    "words = open('names.txt', 'r').read().splitlines()"
   ]
  },
  {
   "cell_type": "code",
   "execution_count": 207,
   "metadata": {},
   "outputs": [
    {
     "data": {
      "text/plain": [
       "['emma', 'olivia', 'ava', 'isabella', 'sophia']"
      ]
     },
     "execution_count": 207,
     "metadata": {},
     "output_type": "execute_result"
    }
   ],
   "source": [
    "words[:5]"
   ]
  },
  {
   "cell_type": "code",
   "execution_count": 208,
   "metadata": {},
   "outputs": [
    {
     "name": "stdout",
     "output_type": "stream",
     "text": [
      "e m\n",
      "m m\n",
      "m a\n"
     ]
    }
   ],
   "source": [
    "for x,y in zip('emma','mma'):\n",
    "  print(x,y)"
   ]
  },
  {
   "cell_type": "code",
   "execution_count": 209,
   "metadata": {},
   "outputs": [],
   "source": [
    "def give_index(c):\n",
    "  if c == '<S>':\n",
    "    return 26\n",
    "  elif c == '<E>':\n",
    "    return 27\n",
    "  else:\n",
    "    return ord(c) - 97"
   ]
  },
  {
   "cell_type": "code",
   "execution_count": 210,
   "metadata": {},
   "outputs": [],
   "source": [
    "import torch"
   ]
  },
  {
   "cell_type": "code",
   "execution_count": 211,
   "metadata": {},
   "outputs": [],
   "source": [
    "import torch\n",
    "N = torch.zeros((28,28), dtype=torch.int32)\n",
    "\n",
    "for word in words:\n",
    "  chs = ['<S>'] + list(word) + ['<E>'] \n",
    "  for ch1,ch2 in zip(chs, chs[1:]):\n",
    "    N[give_index(ch1),give_index(ch2)] += 1\n"
   ]
  },
  {
   "cell_type": "code",
   "execution_count": 212,
   "metadata": {},
   "outputs": [
    {
     "data": {
      "text/plain": [
       "<matplotlib.image.AxesImage at 0x7f171ac74710>"
      ]
     },
     "execution_count": 212,
     "metadata": {},
     "output_type": "execute_result"
    },
    {
     "data": {
      "image/png": "[encoded data removed]",
      "text/plain": [
       "<Figure size 432x288 with 1 Axes>"
      ]
     },
     "metadata": {},
     "output_type": "display_data"
    }
   ],
   "source": [
    "import matplotlib.pyplot as plt\n",
    "%matplotlib inline\n",
    "plt.imshow(N)"
   ]
  },
  {
   "cell_type": "code",
   "execution_count": 213,
   "metadata": {},
   "outputs": [
    {
     "data": {
      "text/plain": [
       "tensor([0.1377, 0.0408, 0.0481, 0.0528, 0.0478, 0.0130, 0.0209, 0.0273, 0.0184,\n",
       "        0.0756, 0.0925, 0.0491, 0.0792, 0.0358, 0.0123, 0.0161, 0.0029, 0.0512,\n",
       "        0.0642, 0.0408, 0.0024, 0.0117, 0.0096, 0.0042, 0.0167, 0.0290, 0.0000,\n",
       "        0.0000])"
      ]
     },
     "execution_count": 213,
     "metadata": {},
     "output_type": "execute_result"
    }
   ],
   "source": [
    "N[26,:]\n",
    "p_first = N[26,:]/sum(N[26,:])\n",
    "p_first"
   ]
  },
  {
   "cell_type": "code",
   "execution_count": 214,
   "metadata": {},
   "outputs": [],
   "source": [
    "def give_char(num):\n",
    "    if num == 26:\n",
    "        c = '<S>'\n",
    "    elif num == 27:\n",
    "        c = '<E>'\n",
    "    else:    \n",
    "        c = chr(num + 97)\n",
    "    \n",
    "    return c"
   ]
  },
  {
   "cell_type": "code",
   "execution_count": 215,
   "metadata": {},
   "outputs": [
    {
     "name": "stdout",
     "output_type": "stream",
     "text": [
      "gabrdarizero\n",
      "jaree\n",
      "leineton\n",
      "aa\n",
      "thisoydon\n",
      "lallyl\n",
      "m\n",
      "dryama\n",
      "haleyaxiioshuqus\n",
      "mbr\n"
     ]
    }
   ],
   "source": [
    "# generate 10 names by bigram\n",
    "for n in range(10):\n",
    "    name = ['<S>']\n",
    "    while True:\n",
    "        predicted_char = name[-1]\n",
    "        predicted_char_num = give_index(predicted_char)\n",
    "        p_first = N[predicted_char_num,:]/sum( N[predicted_char_num,:] )\n",
    "        ix = torch.multinomial(p_first, num_samples=1, replacement=True).item()\n",
    "        next_char = give_char(ix)\n",
    "        name.append(next_char)\n",
    "        if next_char == '<E>':\n",
    "            break\n",
    "    print(''.join(name[1:-1]))\n",
    "    \n",
    "        \n",
    "\n"
   ]
  },
  {
   "cell_type": "code",
   "execution_count": 117,
   "metadata": {},
   "outputs": [],
   "source": [
    "# generate 10 names randomly\n",
    "\n",
    "# for n in range(1):\n",
    "#     name = ['<S>']\n",
    "#     while True:\n",
    "#         p_first = torch.ones(27)/27\n",
    "#         ix = torch.multinomial(p_first, num_samples=1, replacement=True).item()\n",
    "#         next_char = give_char(ix)\n",
    "#         name.append(next_char)\n",
    "#         print(next_char)\n",
    "#         if next_char == '<E>':\n",
    "#             break\n",
    "#     print(''.join(name[1:-1]))\n",
    "    \n",
    "        \n",
    "\n"
   ]
  },
  {
   "cell_type": "code",
   "execution_count": 216,
   "metadata": {},
   "outputs": [
    {
     "data": {
      "text/plain": [
       "tensor([[1.0000],\n",
       "        [1.0000],\n",
       "        [1.0000],\n",
       "        [1.0000],\n",
       "        [1.0000],\n",
       "        [1.0000],\n",
       "        [1.0000],\n",
       "        [1.0000],\n",
       "        [1.0000],\n",
       "        [1.0000],\n",
       "        [1.0000],\n",
       "        [1.0000],\n",
       "        [1.0000],\n",
       "        [1.0000],\n",
       "        [1.0000],\n",
       "        [1.0000],\n",
       "        [1.0000],\n",
       "        [1.0000],\n",
       "        [1.0000],\n",
       "        [1.0000],\n",
       "        [1.0000],\n",
       "        [1.0000],\n",
       "        [1.0000],\n",
       "        [1.0000],\n",
       "        [1.0000],\n",
       "        [1.0000],\n",
       "        [1.0000],\n",
       "        [1.0000]])"
      ]
     },
     "execution_count": 216,
     "metadata": {},
     "output_type": "execute_result"
    }
   ],
   "source": [
    "# from N, get P using broadcasting\n",
    "# P = N.float()\n",
    "P = (N+1).float() # in data, we have some zeros, which give infinite negative log likelihood\n",
    "P /= P.sum(1, keepdims=True)\n",
    "P.shape\n",
    "P.sum(1, keepdim=True)"
   ]
  },
  {
   "cell_type": "code",
   "execution_count": 119,
   "metadata": {},
   "outputs": [
    {
     "data": {
      "text/plain": [
       "tensor([[1.6424e-02, 1.5982e-02, 1.3888e-02, 3.0755e-02, 2.0435e-02, 3.9808e-03,\n",
       "         4.9833e-03, 6.8794e-02, 4.8683e-02, 5.1898e-03, 1.6778e-02, 7.4573e-02,\n",
       "         4.8212e-02, 1.6038e-01, 1.8872e-03, 2.4474e-03, 1.7987e-03, 9.6276e-02,\n",
       "         3.2996e-02, 2.0287e-02, 1.1264e-02, 2.4622e-02, 4.7769e-03, 5.3962e-03,\n",
       "         6.0478e-02, 1.2856e-02, 2.9487e-05, 1.9582e-01],\n",
       "        [1.2046e-01, 1.4590e-02, 7.4822e-04, 2.4691e-02, 2.4542e-01, 3.7411e-04,\n",
       "         3.7411e-04, 1.5713e-02, 8.1556e-02, 7.4822e-04, 3.7411e-04, 3.8908e-02,\n",
       "         3.7411e-04, 1.8706e-03, 3.9656e-02, 3.7411e-04, 3.7411e-04, 3.1538e-01,\n",
       "         3.3670e-03, 1.1223e-03, 1.7209e-02, 3.7411e-04, 3.7411e-04, 3.7411e-04,\n",
       "         3.1425e-02, 3.7411e-04, 3.7411e-04, 4.3023e-02],\n",
       "        [2.2921e-01, 2.8090e-04, 1.2079e-02, 5.6180e-04, 1.5506e-01, 2.8090e-04,\n",
       "         8.4270e-04, 1.8680e-01, 7.6404e-02, 1.1236e-03, 8.9045e-02, 3.2865e-02,\n",
       "         2.8090e-04, 2.8090e-04, 1.0702e-01, 5.6180e-04, 3.3708e-03, 2.1629e-02,\n",
       "         1.6854e-03, 1.0112e-02, 1.0112e-02, 2.8090e-04, 2.8090e-04, 1.1236e-03,\n",
       "         2.9494e-02, 1.4045e-03, 2.8090e-04, 2.7528e-02],\n",
       "        [2.3606e-01, 3.6206e-04, 7.2411e-04, 2.7154e-02, 2.3244e-01, 1.0862e-03,\n",
       "         4.7067e-03, 2.1542e-02, 1.2219e-01, 1.8103e-03, 7.2411e-04, 1.1043e-02,\n",
       "         5.6119e-03, 5.7929e-03, 6.8610e-02, 1.8103e-04, 3.6206e-04, 7.6937e-02,\n",
       "         5.4308e-03, 9.0514e-04, 1.6836e-02, 3.2585e-03, 4.3447e-03, 1.8103e-04,\n",
       "         5.7567e-02, 3.6206e-04, 1.8103e-04, 9.3592e-02],\n",
       "        [3.3250e-02, 5.9655e-03, 7.5302e-03, 1.8825e-02, 6.2197e-02, 4.0585e-03,\n",
       "         6.1611e-03, 7.4813e-03, 4.0047e-02, 2.7383e-03, 8.7526e-03, 1.5887e-01,\n",
       "         3.7651e-02, 1.3085e-01, 1.3202e-02, 4.1074e-03, 7.3346e-04, 9.5790e-02,\n",
       "         4.2150e-02, 2.8409e-02, 3.4228e-03, 2.2688e-02, 2.4938e-03, 6.5033e-03,\n",
       "         5.2369e-02, 8.8993e-03, 4.8897e-05, 1.9481e-01],\n",
       "        [2.6045e-01, 1.0718e-03, 1.0718e-03, 1.0718e-03, 1.3290e-01, 4.8232e-02,\n",
       "         2.1436e-03, 2.1436e-03, 1.7256e-01, 1.0718e-03, 3.2154e-03, 2.2508e-02,\n",
       "         1.0718e-03, 5.3591e-03, 6.5380e-02, 1.0718e-03, 1.0718e-03, 1.2326e-01,\n",
       "         7.5027e-03, 2.0364e-02, 1.1790e-02, 1.0718e-03, 5.3591e-03, 1.0718e-03,\n",
       "         1.6077e-02, 3.2154e-03, 1.0718e-03, 8.6817e-02],\n",
       "        [1.6931e-01, 2.0460e-03, 5.1151e-04, 1.0230e-02, 1.7136e-01, 1.0230e-03,\n",
       "         1.3299e-02, 1.8465e-01, 9.7698e-02, 2.0460e-03, 5.1151e-04, 1.6880e-02,\n",
       "         3.5806e-03, 1.4322e-02, 4.2967e-02, 5.1151e-04, 5.1151e-04, 1.0332e-01,\n",
       "         1.5857e-02, 1.6368e-02, 4.3990e-02, 1.0230e-03, 1.3811e-02, 5.1151e-04,\n",
       "         1.6368e-02, 1.0230e-03, 5.1151e-04, 5.5754e-02],\n",
       "        [2.9369e-01, 1.1774e-03, 3.9246e-04, 3.2705e-03, 8.8305e-02, 3.9246e-04,\n",
       "         3.9246e-04, 2.6164e-04, 9.5500e-02, 1.3082e-03, 3.9246e-03, 2.4333e-02,\n",
       "         1.5437e-02, 1.8184e-02, 3.7677e-02, 2.6164e-04, 2.6164e-04, 2.6818e-02,\n",
       "         4.1863e-03, 9.4192e-03, 2.1847e-02, 5.2329e-03, 1.4390e-03, 1.3082e-04,\n",
       "         2.7996e-02, 2.7473e-03, 1.3082e-04, 3.1528e-01],\n",
       "        [1.3797e-01, 6.2609e-03, 2.8766e-02, 2.4874e-02, 9.3293e-02, 5.7533e-03,\n",
       "         2.4198e-02, 5.4149e-03, 4.6816e-03, 4.3432e-03, 2.5157e-02, 7.5921e-02,\n",
       "         2.4141e-02, 1.1997e-01, 3.3222e-02, 3.0459e-03, 2.9895e-03, 4.7944e-02,\n",
       "         7.4285e-02, 3.0571e-02, 6.2045e-03, 1.5229e-02, 5.0764e-04, 5.0764e-03,\n",
       "         4.3996e-02, 1.5681e-02, 5.6405e-05, 1.4045e-01],\n",
       "        [5.0342e-01, 6.8306e-04, 1.7077e-03, 1.7077e-03, 1.5061e-01, 3.4153e-04,\n",
       "         3.4153e-04, 1.5710e-02, 4.0984e-02, 1.0246e-03, 1.0246e-03, 3.4153e-03,\n",
       "         2.0492e-03, 1.0246e-03, 1.6393e-01, 6.8306e-04, 3.4153e-04, 4.0984e-03,\n",
       "         2.7322e-03, 1.0246e-03, 6.9331e-02, 2.0492e-03, 2.3907e-03, 3.4153e-04,\n",
       "         3.7568e-03, 3.4153e-04, 3.4153e-04, 2.4590e-02],\n",
       "        [3.4175e-01, 5.9195e-04, 5.9195e-04, 5.9195e-04, 1.7680e-01, 3.9463e-04,\n",
       "         1.9732e-04, 6.0773e-02, 1.0063e-01, 5.9195e-04, 4.1436e-03, 2.7624e-02,\n",
       "         1.9732e-03, 5.3275e-03, 6.8074e-02, 1.9732e-04, 1.9732e-04, 2.1705e-02,\n",
       "         1.8942e-02, 3.5517e-03, 1.0063e-02, 5.9195e-04, 6.9061e-03, 1.9732e-04,\n",
       "         7.4980e-02, 5.9195e-04, 1.9732e-04, 7.1823e-02],\n",
       "        [1.8762e-01, 3.7895e-03, 1.8590e-03, 9.9385e-03, 2.0892e-01, 1.6445e-03,\n",
       "         5.0050e-04, 1.4300e-03, 1.7739e-01, 5.0050e-04, 1.7875e-03, 9.6239e-02,\n",
       "         4.3615e-03, 1.0725e-03, 4.9550e-02, 1.1440e-03, 2.8600e-04, 1.3585e-03,\n",
       "         6.7925e-03, 5.5770e-03, 2.3238e-02, 5.2195e-03, 1.2155e-03, 7.1500e-05,\n",
       "         1.1361e-01, 7.8650e-04, 7.1500e-05, 9.4023e-02],\n",
       "        [3.8846e-01, 1.6942e-02, 7.7961e-03, 3.7481e-03, 1.2279e-01, 2.9985e-04,\n",
       "         1.4993e-04, 8.9955e-04, 1.8846e-01, 1.1994e-03, 2.9985e-04, 8.9955e-04,\n",
       "         2.5337e-02, 3.1484e-03, 6.7916e-02, 5.8471e-03, 1.4993e-04, 1.4693e-02,\n",
       "         5.3973e-03, 7.4963e-04, 2.0990e-02, 5.9970e-04, 4.4978e-04, 1.4993e-04,\n",
       "         4.3178e-02, 1.7991e-03, 1.4993e-04, 7.7511e-02],\n",
       "        [1.6224e-01, 4.9033e-04, 1.1659e-02, 3.8409e-02, 7.4094e-02, 6.5377e-04,\n",
       "         1.4928e-02, 1.4710e-03, 9.4034e-02, 2.4516e-03, 3.2144e-03, 1.0678e-02,\n",
       "         1.0896e-03, 1.0390e-01, 2.7077e-02, 3.2689e-04, 1.6344e-04, 2.4516e-03,\n",
       "         1.5200e-02, 2.4190e-02, 5.2847e-03, 3.0509e-03, 6.5377e-04, 3.8137e-04,\n",
       "         2.5388e-02, 7.9542e-03, 5.4481e-05, 3.6851e-01],\n",
       "        [1.8839e-02, 1.7709e-02, 1.4444e-02, 2.3989e-02, 1.6704e-02, 4.3959e-03,\n",
       "         5.6518e-03, 2.1603e-02, 8.7918e-03, 2.1351e-03, 8.6662e-03, 7.7870e-02,\n",
       "         3.2906e-02, 3.0294e-01, 1.4569e-02, 1.2057e-02, 5.0239e-04, 1.3313e-01,\n",
       "         6.3426e-02, 1.4946e-02, 3.4665e-02, 2.2231e-02, 1.4444e-02, 5.7774e-03,\n",
       "         1.3062e-02, 6.9078e-03, 1.2560e-04, 1.0751e-01],\n",
       "        [1.9924e-01, 2.8463e-03, 1.8975e-03, 9.4877e-04, 1.8786e-01, 1.8975e-03,\n",
       "         9.4877e-04, 1.9450e-01, 5.8824e-02, 1.8975e-03, 1.8975e-03, 1.6129e-02,\n",
       "         1.8975e-03, 1.8975e-03, 5.6926e-02, 3.7951e-02, 9.4877e-04, 1.4421e-01,\n",
       "         1.6129e-02, 1.7078e-02, 4.7438e-03, 9.4877e-04, 9.4877e-04, 9.4877e-04,\n",
       "         1.2334e-02, 9.4877e-04, 9.4877e-04, 3.2258e-02],\n",
       "        [4.6667e-02, 3.3333e-03, 3.3333e-03, 3.3333e-03, 6.6667e-03, 3.3333e-03,\n",
       "         3.3333e-03, 3.3333e-03, 4.6667e-02, 3.3333e-03, 3.3333e-03, 6.6667e-03,\n",
       "         1.0000e-02, 3.3333e-03, 1.0000e-02, 3.3333e-03, 3.3333e-03, 6.6667e-03,\n",
       "         1.0000e-02, 3.3333e-03, 6.9000e-01, 3.3333e-03, 1.3333e-02, 3.3333e-03,\n",
       "         3.3333e-03, 3.3333e-03, 3.3333e-03, 9.6667e-02],\n",
       "        [1.8518e-01, 3.2998e-03, 7.8567e-03, 1.4771e-02, 1.3341e-01, 7.8567e-04,\n",
       "         6.0497e-03, 9.5852e-03, 2.3837e-01, 2.0427e-03, 7.1496e-03, 3.2527e-02,\n",
       "         1.2806e-02, 1.1078e-02, 6.8353e-02, 1.1785e-03, 1.3356e-03, 3.3470e-02,\n",
       "         1.5006e-02, 1.6420e-02, 1.9877e-02, 6.3639e-03, 1.7285e-03, 3.1427e-04,\n",
       "         6.0811e-02, 1.8856e-03, 7.8567e-05, 1.0827e-01],\n",
       "        [1.4777e-01, 2.7047e-03, 7.4994e-03, 1.2294e-03, 1.0880e-01, 3.6882e-04,\n",
       "         3.6882e-04, 1.5810e-01, 8.4214e-02, 3.6882e-04, 1.0204e-02, 3.4423e-02,\n",
       "         1.1188e-02, 3.0735e-03, 6.5404e-02, 6.3929e-03, 2.4588e-04, 6.8847e-03,\n",
       "         5.6799e-02, 9.4173e-02, 2.2867e-02, 1.8441e-03, 3.0735e-03, 1.2294e-04,\n",
       "         2.6555e-02, 1.3523e-03, 1.2294e-04, 1.4384e-01],\n",
       "        [1.8364e-01, 3.5727e-04, 3.2154e-03, 1.7864e-04, 1.2808e-01, 5.3591e-04,\n",
       "         5.3591e-04, 1.1576e-01, 9.5213e-02, 7.1454e-04, 1.7864e-04, 2.4116e-02,\n",
       "         8.9318e-04, 4.1086e-03, 1.1933e-01, 1.7864e-04, 1.7864e-04, 6.3058e-02,\n",
       "         6.4309e-03, 6.6988e-02, 1.4112e-02, 2.8582e-03, 2.1436e-03, 5.3591e-04,\n",
       "         6.1093e-02, 1.8935e-02, 1.7864e-04, 8.6459e-02],\n",
       "        [5.1850e-02, 3.2880e-02, 3.2880e-02, 4.3313e-02, 5.3746e-02, 6.3231e-03,\n",
       "         1.5175e-02, 1.8653e-02, 3.8571e-02, 4.7423e-03, 2.9719e-02, 9.5479e-02,\n",
       "         4.9004e-02, 8.7259e-02, 3.4777e-03, 5.3746e-03, 3.4777e-03, 1.3120e-01,\n",
       "         1.5017e-01, 2.6241e-02, 1.2646e-03, 1.2014e-02, 2.7506e-02, 1.1065e-02,\n",
       "         4.4262e-03, 1.4543e-02, 3.1616e-04, 4.9320e-02],\n",
       "        [2.4721e-01, 7.6894e-04, 3.8447e-04, 7.6894e-04, 2.1876e-01, 3.8447e-04,\n",
       "         3.8447e-04, 7.6894e-04, 3.5063e-01, 3.8447e-04, 1.5379e-03, 5.7670e-03,\n",
       "         3.8447e-04, 3.4602e-03, 5.9208e-02, 3.8447e-04, 3.8447e-04, 1.8839e-02,\n",
       "         3.8447e-04, 3.8447e-04, 3.0757e-03, 3.0757e-03, 3.8447e-04, 3.8447e-04,\n",
       "         4.6905e-02, 3.8447e-04, 3.8447e-04, 3.4218e-02],\n",
       "        [2.9363e-01, 2.0899e-03, 1.0449e-03, 9.4044e-03, 1.5674e-01, 3.1348e-03,\n",
       "         2.0899e-03, 2.5078e-02, 1.5569e-01, 1.0449e-03, 7.3145e-03, 1.4629e-02,\n",
       "         3.1348e-03, 6.1651e-02, 3.8662e-02, 1.0449e-03, 1.0449e-03, 2.4033e-02,\n",
       "         2.1944e-02, 9.4044e-03, 2.7168e-02, 1.0449e-03, 3.1348e-03, 1.0449e-03,\n",
       "         7.7325e-02, 2.0899e-03, 1.0449e-03, 5.4336e-02],\n",
       "        [1.4345e-01, 2.7586e-03, 6.8966e-03, 8.2759e-03, 5.1034e-02, 5.5172e-03,\n",
       "         1.3793e-03, 2.7586e-03, 1.4207e-01, 1.3793e-03, 1.3793e-03, 5.5172e-02,\n",
       "         2.7586e-03, 2.7586e-03, 5.7931e-02, 1.3793e-03, 1.3793e-03, 1.3793e-03,\n",
       "         4.4138e-02, 9.7931e-02, 8.2759e-03, 1.3793e-03, 5.5172e-03, 5.3793e-02,\n",
       "         4.2759e-02, 2.7586e-02, 1.3793e-03, 2.2759e-01],\n",
       "        [2.1869e-01, 2.8560e-03, 1.1832e-02, 2.7846e-02, 3.0804e-02, 1.3260e-03,\n",
       "         3.1620e-03, 2.3460e-03, 1.9686e-02, 2.4480e-03, 8.8739e-03, 1.1271e-01,\n",
       "         1.5198e-02, 1.8635e-01, 2.7744e-02, 1.6320e-03, 7.1399e-04, 2.9784e-02,\n",
       "         4.1004e-02, 1.0710e-02, 1.4484e-02, 1.0914e-02, 5.1000e-04, 2.9580e-03,\n",
       "         2.4480e-03, 8.0579e-03, 1.0200e-04, 2.0481e-01],\n",
       "        [3.5491e-01, 2.0610e-03, 1.2366e-03, 1.2366e-03, 1.5416e-01, 4.1220e-04,\n",
       "         8.2440e-04, 1.8137e-02, 1.5045e-01, 1.2366e-03, 1.2366e-03, 5.1113e-02,\n",
       "         1.4839e-02, 2.0610e-03, 4.5754e-02, 1.2366e-03, 4.1220e-04, 1.3603e-02,\n",
       "         2.0610e-03, 2.0610e-03, 3.0503e-02, 1.2366e-03, 1.6488e-03, 8.2440e-04,\n",
       "         6.1006e-02, 1.8961e-02, 4.1220e-04, 6.6364e-02],\n",
       "        [1.3758e-01, 4.0766e-02, 4.8127e-02, 5.2743e-02, 4.7784e-02, 1.3038e-02,\n",
       "         2.0898e-02, 2.7292e-02, 1.8465e-02, 7.5575e-02, 9.2449e-02, 4.9063e-02,\n",
       "         7.9193e-02, 3.5776e-02, 1.2320e-02, 1.6094e-02, 2.9007e-03, 5.1152e-02,\n",
       "         6.4128e-02, 4.0828e-02, 2.4641e-03, 1.1759e-02, 9.6067e-03, 4.2107e-03,\n",
       "         1.6718e-02, 2.9007e-02, 3.1191e-05, 3.1191e-05],\n",
       "        [0.0000e+00, 0.0000e+00, 0.0000e+00, 0.0000e+00, 0.0000e+00, 0.0000e+00,\n",
       "         0.0000e+00, 0.0000e+00, 0.0000e+00, 0.0000e+00, 0.0000e+00, 0.0000e+00,\n",
       "         0.0000e+00, 0.0000e+00, 0.0000e+00, 0.0000e+00, 0.0000e+00, 0.0000e+00,\n",
       "         0.0000e+00, 0.0000e+00, 0.0000e+00, 0.0000e+00, 0.0000e+00, 0.0000e+00,\n",
       "         0.0000e+00, 0.0000e+00, 0.0000e+00, 0.0000e+00]])"
      ]
     },
     "execution_count": 119,
     "metadata": {},
     "output_type": "execute_result"
    }
   ],
   "source": [
    "P[27,:] = 0\n",
    "P[27,:]\n",
    "P"
   ]
  },
  {
   "cell_type": "code",
   "execution_count": 217,
   "metadata": {},
   "outputs": [
    {
     "name": "stdout",
     "output_type": "stream",
     "text": [
      "all words err =  2.4606912554704077\n"
     ]
    }
   ],
   "source": [
    "all_words_err = []\n",
    "for word in words:\n",
    "  chs = ['<S>'] + list(word) + ['<E>']\n",
    "  per_word_err = [];\n",
    "  for ch1,ch2 in zip(chs, chs[1:]):\n",
    "    per_word_err.append(-torch.log(P[give_index(ch1),give_index(ch2)]))\n",
    "  all_words_err.append((sum(per_word_err)/len(per_word_err)).item())\n",
    " \n",
    "print('all words err = ',sum(all_words_err)/len(all_words_err))\n",
    "training_data_nll = all_words_err"
   ]
  },
  {
   "cell_type": "code",
   "execution_count": 121,
   "metadata": {},
   "outputs": [
    {
     "data": {
      "image/png": "[encoded data removed]",
      "text/plain": [
       "<Figure size 432x288 with 1 Axes>"
      ]
     },
     "metadata": {},
     "output_type": "display_data"
    }
   ],
   "source": [
    "import numpy as np\n",
    "plt.hist(np.array(all_words_err), bins=20, density=True, alpha=0.7, color='g')  # use 20 bins, normalize the data to make the area under the histogram equal to 1, set transparency to 0.7, and color to green\n",
    "plt.xlabel('Values')  # add a label for the x-axis\n",
    "plt.ylabel('Frequency')  # add a label for the y-axis\n",
    "plt.title('Histogram of Random Data')  # add a title for the histogram\n",
    "plt.show()  # display the histogram\n"
   ]
  },
  {
   "cell_type": "code",
   "execution_count": 122,
   "metadata": {},
   "outputs": [],
   "source": [
    "# why product of probs?\n",
    "# <S> E M M A <E>\n",
    "# P(next_E/prev_<S>) = p1\n",
    "# P(next_M/prev_E) = p2\n",
    "# ..\n",
    "# P(next_<E>/prev_A) = p5\n",
    "# prob of this word being formed = P(next_E/prev<S>)*P(next_M/prev_E)...P(next_<E>/prev_A) [Independent events]\n",
    "\n",
    "# Another way?\n",
    "# Prob(next_E/prev_<S>) * prob(next_M/Prev_E_AND_prev_<S>)\n",
    "# basically don't forget independence\n"
   ]
  },
  {
   "cell_type": "code",
   "execution_count": 123,
   "metadata": {},
   "outputs": [
    {
     "name": "stdout",
     "output_type": "stream",
     "text": [
      "\n",
      "generated names err =  2.4049953243508937\n"
     ]
    }
   ],
   "source": [
    "# err in bigram genrated names\n",
    "all_words_err = []\n",
    "# generate 10 names by bigram\n",
    "for n in range(3200):\n",
    "    name = ['<S>']\n",
    "    while True:\n",
    "        predicted_char = name[-1]\n",
    "        predicted_char_num = give_index(predicted_char)\n",
    "        p_first = N[predicted_char_num,:]/sum( N[predicted_char_num,:] )\n",
    "        ix = torch.multinomial(p_first, num_samples=1, replacement=True).item()\n",
    "        next_char = give_char(ix)\n",
    "        name.append(next_char)\n",
    "        if next_char == '<E>':\n",
    "            chs = list(name)\n",
    "            per_word_err = [];\n",
    "            for ch1,ch2 in zip(chs, chs[1:]):\n",
    "                per_word_err.append(-torch.log(P[give_index(ch1),give_index(ch2)]))\n",
    "            err = (sum(per_word_err)/len(per_word_err)).item()\n",
    "            all_words_err.append(err)\n",
    "            break\n",
    "#     print(''.join(name[1:-1]), ' err =',err)\n",
    "    \n",
    "        \n",
    "\n",
    "print('\\ngenerated names err = ', sum(all_words_err)/len(all_words_err))\n",
    "generated_data_nll = all_words_err"
   ]
  },
  {
   "cell_type": "code",
   "execution_count": 124,
   "metadata": {},
   "outputs": [
    {
     "name": "stdout",
     "output_type": "stream",
     "text": [
      "t-statistic: 8.886116521081094\n",
      "p-value: 6.621404508006873e-19\n",
      "Rank-sum test statistic: 7.1999245433422026\n",
      "p-value: 6.024589018415706e-13\n"
     ]
    }
   ],
   "source": [
    "import scipy.stats as stats\n",
    "\n",
    "# Two independent sets of data\n",
    "data1 = training_data_nll\n",
    "data2 = generated_data_nll\n",
    "\n",
    "# Perform unpaired t-test\n",
    "t_stat, p_val = stats.ttest_ind(data1, data2)\n",
    "\n",
    "# Print results\n",
    "print(\"t-statistic:\", t_stat)\n",
    "print(\"p-value:\", p_val)\n",
    "\n",
    "# \n",
    "import scipy.stats as stats\n",
    "\n",
    "# Generate two sets of data\n",
    "group1 = training_data_nll\n",
    "group2 = generated_data_nll\n",
    "\n",
    "# Calculate the rank-sum test\n",
    "statistic, pvalue = stats.ranksums(group1, group2)\n",
    "\n",
    "# Print the results\n",
    "print(\"Rank-sum test statistic:\", statistic)\n",
    "print(\"p-value:\", pvalue)\n"
   ]
  },
  {
   "cell_type": "code",
   "execution_count": 125,
   "metadata": {},
   "outputs": [],
   "source": [
    "# instead of hard coding probs in matrix from data. we will train a neural network\n",
    "# simple neural network - 1 layer,\n",
    "# 27 neurons, softmax prob\n"
   ]
  },
  {
   "cell_type": "code",
   "execution_count": 126,
   "metadata": {},
   "outputs": [
    {
     "name": "stdout",
     "output_type": "stream",
     "text": [
      "[26, 4, 12, 12, 0] [4, 12, 12, 0, 27]\n"
     ]
    }
   ],
   "source": [
    "# training with only one example\n",
    "x_input = []\n",
    "y_output = []\n",
    "for word in words[:1]:\n",
    "    chs = ['<S>'] + list(word) + ['<E>']\n",
    "    for ch1,ch2 in zip(chs, chs[1:]):\n",
    "        x_input.append(give_index(ch1))\n",
    "        y_output.append(give_index(ch2))\n",
    "print(x_input, y_output)        "
   ]
  },
  {
   "cell_type": "code",
   "execution_count": 127,
   "metadata": {},
   "outputs": [
    {
     "name": "stdout",
     "output_type": "stream",
     "text": [
      "tensor([[0., 0., 0., 0., 0., 0., 0., 0., 0., 0., 0., 0., 0., 0., 0., 0., 0., 0.,\n",
      "         0., 0., 0., 0., 0., 0., 0., 0., 1., 0.],\n",
      "        [0., 0., 0., 0., 1., 0., 0., 0., 0., 0., 0., 0., 0., 0., 0., 0., 0., 0.,\n",
      "         0., 0., 0., 0., 0., 0., 0., 0., 0., 0.],\n",
      "        [0., 0., 0., 0., 0., 0., 0., 0., 0., 0., 0., 0., 1., 0., 0., 0., 0., 0.,\n",
      "         0., 0., 0., 0., 0., 0., 0., 0., 0., 0.],\n",
      "        [0., 0., 0., 0., 0., 0., 0., 0., 0., 0., 0., 0., 1., 0., 0., 0., 0., 0.,\n",
      "         0., 0., 0., 0., 0., 0., 0., 0., 0., 0.],\n",
      "        [1., 0., 0., 0., 0., 0., 0., 0., 0., 0., 0., 0., 0., 0., 0., 0., 0., 0.,\n",
      "         0., 0., 0., 0., 0., 0., 0., 0., 0., 0.]])\n"
     ]
    }
   ],
   "source": [
    "import torch.nn.functional as F\n",
    "\n",
    "xenc = F.one_hot(torch.tensor(x_input), num_classes=28).float()\n",
    "print(xenc)"
   ]
  },
  {
   "cell_type": "code",
   "execution_count": 141,
   "metadata": {},
   "outputs": [
    {
     "name": "stdout",
     "output_type": "stream",
     "text": [
      "tensor([[-0.6212,  0.3371,  0.0368, -1.4117, -2.6682,  0.7502,  0.5853,  0.2949,\n",
      "          1.2908,  1.9005, -0.7969, -0.2400, -0.0407,  1.5936,  0.9982,  1.1730,\n",
      "          0.0440,  1.0036,  1.5495, -0.1538, -0.5094,  0.6079, -0.1501,  0.0976,\n",
      "          0.8421,  0.2928, -1.1467,  0.6068],\n",
      "        [ 1.1452, -0.9429,  2.5938,  1.0881,  0.4188,  0.8002,  0.8722, -0.5784,\n",
      "          0.1396,  1.3904, -1.2229,  0.1762,  0.7401, -0.6431, -1.1799, -1.5460,\n",
      "          0.2700,  0.2276, -2.2608, -0.0470, -0.4750,  0.9481, -0.2235, -0.8554,\n",
      "          1.5274, -0.3382,  2.9809, -1.4148],\n",
      "        [ 1.2231, -0.9603,  0.8788, -0.1341, -0.7883,  0.0519, -0.9387, -0.3936,\n",
      "         -0.4038,  0.6968, -0.8381,  0.3127, -0.9247, -2.1156, -0.3679, -1.0343,\n",
      "          0.0702, -0.4141,  0.2543, -1.4731, -0.2192, -1.1647, -0.4307,  1.1718,\n",
      "         -0.9127, -1.3996,  1.1432, -0.6446],\n",
      "        [ 1.2231, -0.9603,  0.8788, -0.1341, -0.7883,  0.0519, -0.9387, -0.3936,\n",
      "         -0.4038,  0.6968, -0.8381,  0.3127, -0.9247, -2.1156, -0.3679, -1.0343,\n",
      "          0.0702, -0.4141,  0.2543, -1.4731, -0.2192, -1.1647, -0.4307,  1.1718,\n",
      "         -0.9127, -1.3996,  1.1432, -0.6446],\n",
      "        [ 0.0918, -0.0154, -0.4408, -1.3075, -0.8535,  2.4998,  2.5184, -1.6352,\n",
      "          1.9334, -0.3786,  0.8597,  0.9718,  0.7621,  2.2149,  1.2813,  0.0141,\n",
      "         -0.4477,  0.1787,  1.1114,  0.3918,  0.4615,  0.9983, -1.2487, -0.6701,\n",
      "          0.1171,  1.3014, -0.3402,  0.5360]], grad_fn=<MmBackward0>)\n"
     ]
    }
   ],
   "source": [
    "W = torch.randn((28,28), requires_grad=True)\n",
    "wx = xenc @ W\n",
    "print(wx)"
   ]
  },
  {
   "cell_type": "code",
   "execution_count": 142,
   "metadata": {},
   "outputs": [
    {
     "data": {
      "text/plain": [
       "torch.Size([5, 28])"
      ]
     },
     "execution_count": 142,
     "metadata": {},
     "output_type": "execute_result"
    }
   ],
   "source": [
    "# we want probs, using softmax to convert Wx into probs\n",
    "exp_wx = wx.exp()\n",
    "prob = exp_wx/exp_wx.sum(1, keepdims=True)\n",
    "prob.shape # torch.Size([5, 28]) - for each 5 inputs, an 1 x 28 output"
   ]
  },
  {
   "cell_type": "code",
   "execution_count": 143,
   "metadata": {},
   "outputs": [
    {
     "name": "stdout",
     "output_type": "stream",
     "text": [
      "6.609539985656738\n",
      "3.504087209701538\n",
      "4.265148639678955\n",
      "2.1173064708709717\n",
      "3.786771059036255\n",
      "err total is  4.056570672988892\n"
     ]
    }
   ],
   "source": [
    "# loss calculated in elaborate way\n",
    "all_err = []\n",
    "for i in range(5):\n",
    "    p = prob[i,y_output[i]]\n",
    "    # err is difference of negative log likelihood between model(p) and dataset(p=1)\n",
    "    err  = -torch.log(p).item() - (-torch.log(torch.tensor(1))).item()\n",
    "    all_err.append(err)\n",
    "    print(err)\n",
    "\n",
    "print('err total is ',sum(all_err)/len(all_err))"
   ]
  },
  {
   "cell_type": "code",
   "execution_count": 144,
   "metadata": {},
   "outputs": [],
   "source": [
    "# loss in one line \n",
    "\n"
   ]
  },
  {
   "cell_type": "code",
   "execution_count": 165,
   "metadata": {},
   "outputs": [],
   "source": [
    "# putting everything at one place - forward pass\n",
    "# initialize weights\n",
    "generator = torch.Generator()\n",
    "generator.manual_seed(3)\n",
    "W = torch.randn((28,28), requires_grad=True, generator=generator)"
   ]
  },
  {
   "cell_type": "code",
   "execution_count": 170,
   "metadata": {},
   "outputs": [
    {
     "name": "stdout",
     "output_type": "stream",
     "text": [
      "4.192685127258301\n"
     ]
    }
   ],
   "source": [
    "# forward pass\n",
    "wx = xenc @ W\n",
    "exp_wx = wx.exp()\n",
    "prob = exp_wx/exp_wx.sum(1, keepdims=True)\n",
    "loss = -prob[torch.arange(5),y_output].log().mean()\n",
    "print(loss.item())"
   ]
  },
  {
   "cell_type": "code",
   "execution_count": 169,
   "metadata": {},
   "outputs": [],
   "source": [
    "# backward pass\n",
    "W.grad = None\n",
    "loss.backward()\n",
    "W.data += -0.1*W.grad"
   ]
  },
  {
   "cell_type": "code",
   "execution_count": 176,
   "metadata": {},
   "outputs": [],
   "source": [
    "import matplotlib.pyplot as plt\n",
    "%matplotlib inline"
   ]
  },
  {
   "cell_type": "code",
   "execution_count": 218,
   "metadata": {},
   "outputs": [
    {
     "name": "stdout",
     "output_type": "stream",
     "text": [
      "loss @ end of training =  2.464089870452881\n"
     ]
    },
    {
     "data": {
      "image/png": "[encoded data removed]",
      "text/plain": [
       "<Figure size 432x288 with 1 Axes>"
      ]
     },
     "metadata": {},
     "output_type": "display_data"
    }
   ],
   "source": [
    "# a loop insted of manually forward and backward pass\n",
    "# --- input output dataset vecs\n",
    "x_input = []\n",
    "y_output = []\n",
    "for word in words:\n",
    "    chs = ['<S>'] + list(word) + ['<E>']\n",
    "    for ch1,ch2 in zip(chs, chs[1:]):\n",
    "        x_input.append(give_index(ch1))\n",
    "        y_output.append(give_index(ch2))\n",
    "\n",
    "\n",
    "# one hot encoding of inputs\n",
    "xenc = F.one_hot(torch.tensor(x_input), num_classes=28).float()\n",
    "\n",
    "# initialize weights\n",
    "generator = torch.Generator()\n",
    "generator.manual_seed(3)\n",
    "# W = torch.randn((28,28), requires_grad=True, generator=generator)\n",
    "W = torch.randn((28,28), requires_grad=True)\n",
    "\n",
    "loss_over_time = []\n",
    "# forward pass and backward pass\n",
    "for p in range(200):\n",
    "    wx = xenc @ W\n",
    "    exp_wx = wx.exp()\n",
    "    prob = exp_wx/exp_wx.sum(1, keepdims=True)\n",
    "    loss = -prob[torch.arange(len(x_input)),y_output].log().mean()\n",
    "    loss_over_time.append(loss.item())\n",
    "    plt.plot(range(1,len(loss_over_time)+1), loss_over_time)\n",
    "    W.grad = None\n",
    "    loss.backward()\n",
    "    W.data += -50*W.grad\n",
    "\n",
    "print('loss @ end of training = ', loss_over_time[-1])"
   ]
  },
  {
   "cell_type": "code",
   "execution_count": null,
   "metadata": {},
   "outputs": [],
   "source": [
    "# the loss by single layer is 2.4634, loss of bigram char model was around 2.4606. \n",
    "# both are essentially doing the same thing, taking the first character, predicting the second\n",
    "# the key difference is that in bigram model, we have explicitly mentioned the probability distributions from the data\n",
    "# while in the neural network model, it is via training that we had tuned the weights, which inturn spit out prob distributions\n",
    "\n",
    "# the bigram model is unscalable because if we had to use previous 2 chars, or prev 3 chars to predict the next char\n",
    "# the matrix of prob would increase and increase\n",
    "# but for neural network, we just have to change the architecture- num of layers and neurons"
   ]
  },
  {
   "cell_type": "code",
   "execution_count": 198,
   "metadata": {},
   "outputs": [],
   "source": [
    "# interesting - 1\n",
    "# the W array in neural network approach and probability matrix are essentially same\n",
    "# explanation: when we one hot encode, we only take one row of weight matrix and predict.\n",
    "# this is similar to taking the row corresponding to first character in bigram prob matrix.\n",
    "# in bigram we define the matrix, in Neural network, we arrive at that matrix by training"
   ]
  },
  {
   "cell_type": "code",
   "execution_count": 226,
   "metadata": {},
   "outputs": [
    {
     "name": "stdout",
     "output_type": "stream",
     "text": [
      "tensor([63.6494, 24.6710, 19.8554, 23.9320, 54.0614, 31.6699, 25.8377, 33.8341,\n",
      "        51.5107, 32.0481, 22.0913, 28.0229, 23.7220, 30.7426, 37.6717, 30.2539,\n",
      "        41.1396, 33.5537, 21.7882, 22.4419, 24.7084, 17.8164, 34.8693, 37.5048,\n",
      "        31.7034, 23.1123, 43.9781, 51.4458], grad_fn=<AddBackward0>)\n"
     ]
    }
   ],
   "source": [
    "diff_W_P = W - P\n",
    "print(sum(abs(diff_W_P)))"
   ]
  },
  {
   "cell_type": "code",
   "execution_count": null,
   "metadata": {},
   "outputs": [],
   "source": [
    "# interesting - 2\n",
    "# the N_counters + 1(call '1' as smoothening_term in bigram model), the + 1, which was done so that the -log(0) doesn't shoot to infinity is equialent to regularising\n",
    "# the loss function = -log(p) + reg_term*(W**2).sum()\n",
    "# the smoothening term prevents the loss function to go to infinity\n",
    "# similarly, in neural network training, it can happen weights go to zero, and spit output zero causing -log(p) to go to infinity\n",
    "# so, essentially: we add another extra term in loss function, so that weight doesn't drop to zero\n",
    "# [ ??? wouldn't adding a small number directly to weights be more better??. NO, because its essentially like changing structure of neural network, \n",
    "# or may be we have them the Biases, but biases can't be large enough to shift the results completely]\n",
    "\n",
    "# the parallel between smoothening_term in bigram and reg_term in neural network comes here:\n",
    "# the larger the numbers, more uniform will be the 28 x 28 matrix in both cases\n",
    "# in bigram if Ncounters + 10000 is done, all probs will be nearly same\n",
    "# in neural network, if part of loss function which optimizes W**2.sum() dominates, then model will try to generalize more\n",
    "# generalize more = not overfit, prefer the other part of loss func than minimizing the fit to existing dataset."
   ]
  }
 ],
 "metadata": {
  "kernelspec": {
   "display_name": "Python 3",
   "language": "python",
   "name": "python3"
  },
  "language_info": {
   "codemirror_mode": {
    "name": "ipython",
    "version": 3
   },
   "file_extension": ".py",
   "mimetype": "text/x-python",
   "name": "python",
   "nbconvert_exporter": "python",
   "pygments_lexer": "ipython3",
   "version": "3.6.9"
  }
 },
 "nbformat": 4,
 "nbformat_minor": 2
}
