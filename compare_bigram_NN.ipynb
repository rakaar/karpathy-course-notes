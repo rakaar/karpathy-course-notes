{
 "cells": [
  {
   "cell_type": "code",
   "execution_count": 1,
   "metadata": {},
   "outputs": [],
   "source": [
    "def give_index(c):\n",
    "  if c == '<S>':\n",
    "    return 26\n",
    "  elif c == '<E>':\n",
    "    return 27\n",
    "  else:\n",
    "    return ord(c) - 97"
   ]
  },
  {
   "cell_type": "code",
   "execution_count": 2,
   "metadata": {},
   "outputs": [],
   "source": [
    "def give_char(num):\n",
    "    if num == 26:\n",
    "        c = '<S>'\n",
    "    elif num == 27:\n",
    "        c = '<E>'\n",
    "    else:    \n",
    "        c = chr(num + 97)\n",
    "    \n",
    "    return c"
   ]
  },
  {
   "cell_type": "code",
   "execution_count": 3,
   "metadata": {},
   "outputs": [],
   "source": [
    "words = open('names.txt', 'r').read().splitlines()"
   ]
  },
  {
   "cell_type": "code",
   "execution_count": 13,
   "metadata": {},
   "outputs": [],
   "source": [
    "import torch\n",
    "N = torch.zeros((28,28), dtype=torch.int32)\n",
    "\n",
    "for word in words:\n",
    "  chs = ['<S>'] + list(word) + ['<E>'] \n",
    "  for ch1,ch2 in zip(chs, chs[1:]):\n",
    "    N[give_index(ch1),give_index(ch2)] += 1\n",
    "\n",
    "P = (N+1).float() # in data, we have some zeros, which give infinite negative log likelihood\n",
    "P /= P.sum(1, keepdims=True)"
   ]
  },
  {
   "cell_type": "code",
   "execution_count": 15,
   "metadata": {},
   "outputs": [
    {
     "name": "stdout",
     "output_type": "stream",
     "text": [
      "all words err =  tensor(2.5144)\n"
     ]
    }
   ],
   "source": [
    "nll = 0 # negative log likelihood\n",
    "n = 0\n",
    "for word in words[:1]:\n",
    "  chs = ['<S>'] + list(word) + ['<E>']\n",
    "  for ch1,ch2 in zip(chs, chs[1:]):\n",
    "        nll += -torch.log(P[give_index(ch1),give_index(ch2)])\n",
    "        n = n + 1\n",
    " \n",
    "print('all words err = ',nll/n)"
   ]
  },
  {
   "cell_type": "code",
   "execution_count": 16,
   "metadata": {},
   "outputs": [],
   "source": [
    "x_input = []\n",
    "y_output = []\n",
    "for word in words:\n",
    "    chs = ['<S>'] + list(word) + ['<E>']\n",
    "    for ch1,ch2 in zip(chs, chs[1:]):\n",
    "        x_input.append(give_index(ch1))\n",
    "        y_output.append(give_index(ch2))\n",
    "\n",
    "import torch.nn.functional as F\n",
    "\n",
    "xenc = F.one_hot(torch.tensor(x_input), num_classes=28).float()"
   ]
  },
  {
   "cell_type": "code",
   "execution_count": 19,
   "metadata": {},
   "outputs": [],
   "source": [
    "W = torch.randn((28,28), requires_grad=True)"
   ]
  },
  {
   "cell_type": "code",
   "execution_count": 21,
   "metadata": {},
   "outputs": [
    {
     "name": "stdout",
     "output_type": "stream",
     "text": [
      "loss @ end of training =  2.46334171295166\n"
     ]
    },
    {
     "data": {
      "image/png": "[encoded data removed]",
      "text/plain": [
       "<Figure size 432x288 with 1 Axes>"
      ]
     },
     "metadata": {},
     "output_type": "display_data"
    }
   ],
   "source": [
    "import matplotlib.pyplot as plt\n",
    "%matplotlib inline\n",
    "\n",
    "loss_over_time = []\n",
    "# forward pass and backward pass\n",
    "for p in range(200):\n",
    "    wx = xenc @ W\n",
    "    exp_wx = wx.exp()\n",
    "    prob = exp_wx/exp_wx.sum(1, keepdims=True)\n",
    "    loss = -prob[torch.arange(len(x_input)),y_output].log().mean()\n",
    "    loss_over_time.append(loss.item())\n",
    "    plt.plot(range(1,len(loss_over_time)+1), loss_over_time)\n",
    "    W.grad = None\n",
    "    loss.backward()\n",
    "    W.data += -50*W.grad\n",
    "\n",
    "print('loss @ end of training = ', loss_over_time[-1])"
   ]
  },
  {
   "cell_type": "code",
   "execution_count": 27,
   "metadata": {},
   "outputs": [
    {
     "data": {
      "text/plain": [
       "tensor([187.7437,  36.8556,  27.1956,  26.7994, 137.4277,  51.7325,  21.8804,\n",
       "         52.4587, 120.6510,  37.8814,  26.2533,  45.9948,  24.2358,  50.9218,\n",
       "         73.5480,  37.7031,  63.5460,  54.8602,  26.8348,  27.3837,  39.7624,\n",
       "         17.3718,  40.7152,  53.3119,  50.2915,  22.5445,  86.7593, 128.9269])"
      ]
     },
     "execution_count": 27,
     "metadata": {},
     "output_type": "execute_result"
    }
   ],
   "source": [
    "diff = W.data - P.data\n",
    "sum(diff**2)"
   ]
  },
  {
   "cell_type": "code",
   "execution_count": 35,
   "metadata": {},
   "outputs": [
    {
     "name": "stdout",
     "output_type": "stream",
     "text": [
      "mroda<E>\n",
      "tasssi<E>\n",
      "mus<E>\n",
      "ke<E>\n",
      "an<E>\n"
     ]
    }
   ],
   "source": [
    "# sample and check\n",
    "g = torch.Generator().manual_seed(2147483647)\n",
    "\n",
    "for i in range(5):\n",
    "  \n",
    "  out = []\n",
    "  ix = 26\n",
    "  while True:\n",
    "    \n",
    "    # ----------\n",
    "    # BEFORE:\n",
    "    p = P[ix]\n",
    "    # ----------\n",
    "    # NOW:\n",
    "#     xenc = F.one_hot(torch.tensor([ix]), num_classes=27).float()\n",
    "#     logits = xenc @ W # predict log-counts\n",
    "#     counts = logits.exp() # counts, equivalent to N\n",
    "#     p = counts / counts.sum(1, keepdims=True) # probabilities for next character\n",
    "    # ----------\n",
    "    \n",
    "    ix = torch.multinomial(p, num_samples=1, replacement=True, generator=g).item()\n",
    "    out.append(give_char(ix))\n",
    "    if ix == 27:\n",
    "      break\n",
    "  print(''.join(out))"
   ]
  },
  {
   "cell_type": "code",
   "execution_count": 37,
   "metadata": {},
   "outputs": [
    {
     "name": "stdout",
     "output_type": "stream",
     "text": [
      "mroda<E>\n",
      "tasssi<E>\n",
      "mus<E>\n",
      "ke<E>\n",
      "an<E>\n"
     ]
    }
   ],
   "source": [
    "# sample and check\n",
    "g = torch.Generator().manual_seed(2147483647)\n",
    "\n",
    "for i in range(5):\n",
    "  \n",
    "  out = []\n",
    "  ix = 26\n",
    "  while True:\n",
    "    \n",
    "    # ----------\n",
    "    # BEFORE:\n",
    "#     p = P[ix]\n",
    "    # ----------\n",
    "    # NOW:\n",
    "    xenc = F.one_hot(torch.tensor([ix]), num_classes=28).float()\n",
    "    logits = xenc @ W # predict log-counts\n",
    "    counts = logits.exp() # counts, equivalent to N\n",
    "    p = counts / counts.sum(1, keepdims=True) # probabilities for next character\n",
    "    # ----------\n",
    "    \n",
    "    ix = torch.multinomial(p, num_samples=1, replacement=True, generator=g).item()\n",
    "    out.append(give_char(ix))\n",
    "    if ix == 27:\n",
    "      break\n",
    "  print(''.join(out))"
   ]
  },
  {
   "cell_type": "code",
   "execution_count": 38,
   "metadata": {},
   "outputs": [],
   "source": [
    "xenc = F.one_hot(torch.tensor([26]), num_classes=28).float()\n",
    "logits = xenc @ W # predict log-counts\n",
    "counts = logits.exp() # counts, equivalent to N\n",
    "p = counts / counts.sum(1, keepdims=True) # probabilities for next character\n",
    "\n"
   ]
  },
  {
   "cell_type": "code",
   "execution_count": 50,
   "metadata": {},
   "outputs": [
    {
     "data": {
      "image/png": "[encoded data removed]",
      "text/plain": [
       "<Figure size 432x288 with 2 Axes>"
      ]
     },
     "metadata": {},
     "output_type": "display_data"
    }
   ],
   "source": [
    "diff = abs(p - P)\n",
    "mat = diff.detach().numpy()\n",
    "fig, ax = plt.subplots()\n",
    "im = ax.imshow(mat, cmap='viridis')\n",
    "\n",
    "# Add a colorbar to the plot\n",
    "cbar = ax.figure.colorbar(im, ax=ax)\n",
    "\n",
    "# Show the plot\n",
    "plt.show()\n"
   ]
  }
 ],
 "metadata": {
  "kernelspec": {
   "display_name": "Python 3",
   "language": "python",
   "name": "python3"
  },
  "language_info": {
   "codemirror_mode": {
    "name": "ipython",
    "version": 3
   },
   "file_extension": ".py",
   "mimetype": "text/x-python",
   "name": "python",
   "nbconvert_exporter": "python",
   "pygments_lexer": "ipython3",
   "version": "3.6.9"
  }
 },
 "nbformat": 4,
 "nbformat_minor": 2
}
